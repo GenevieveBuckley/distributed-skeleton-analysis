{
 "cells": [
  {
   "cell_type": "markdown",
   "id": "fresh-machinery",
   "metadata": {},
   "source": [
    "# Distributed skeleton analysis with Dask"
   ]
  },
  {
   "cell_type": "markdown",
   "id": "finite-aircraft",
   "metadata": {},
   "source": [
    "## Introduction to skeleton analysis"
   ]
  },
  {
   "cell_type": "markdown",
   "id": "textile-anniversary",
   "metadata": {},
   "source": [
    "Lots of biological structures have a skeleton or network-like shape. We see these in all kinds of places, including:\n",
    "* blood vessel branching\n",
    "* the branching of airways\n",
    "* neuron networks in the brain\n",
    "* the root structure of plants\n",
    "* the capillaries in leaves\n",
    "* ... and many more\n",
    "\n",
    "Analysing the structure of these skeletons can give us important information about the biology of that system."
   ]
  },
  {
   "cell_type": "markdown",
   "id": "indie-breed",
   "metadata": {},
   "source": [
    "### Create skeletons with scikit-image\n",
    "\n",
    "The [scikit-image `skeletonize`](https://scikit-image.org/docs/dev/auto_examples/edges/plot_skeleton.html) function can be used to make image skeletons.\n",
    "\n",
    "> Skeletonization reduces binary objects to 1 pixel wide representations. This can be useful for feature extraction, and/or representing an object’s topology.\n",
    ">\n",
    "> `skeletonize` works by making successive passes of the image. On each pass, border pixels are identified and removed on the condition that they do not break the connectivity of the corresponding object.\n"
   ]
  },
  {
   "cell_type": "markdown",
   "id": "unlimited-tracy",
   "metadata": {},
   "source": [
    "### Analyse skeletons with skan\n",
    "\n",
    "[skan](https://jni.github.io/skan/) is a library for skeleton image analysis. Given a skeleton image, it can describe statistics of the branches. To make it fast, the library is accelerated with [numba](https://numba.pydata.org/) (if you're curious, you can hear more about that in [this talk](https://www.youtube.com/watch?v=0pUPNMglnaE) and its [related notebook](https://github.com/jni/skan-talk-scipy-2019))."
   ]
  },
  {
   "cell_type": "markdown",
   "id": "written-method",
   "metadata": {},
   "source": [
    "Here is a small, very simple skeleton image."
   ]
  },
  {
   "cell_type": "code",
   "execution_count": 1,
   "id": "necessary-transformation",
   "metadata": {},
   "outputs": [
    {
     "data": {
      "text/plain": [
       "<matplotlib.image.AxesImage at 0x7fd43a7a6d90>"
      ]
     },
     "execution_count": 1,
     "metadata": {},
     "output_type": "execute_result"
    },
    {
     "data": {
      "image/png": "[encoded data removed]",
      "text/plain": [
       "<Figure size 432x288 with 1 Axes>"
      ]
     },
     "metadata": {
      "needs_background": "light"
     },
     "output_type": "display_data"
    }
   ],
   "source": [
    "from skan._testdata import skeleton0 as skel\n",
    "import matplotlib.pyplot as plt\n",
    "%matplotlib inline\n",
    "\n",
    "plt.imshow(skel)"
   ]
  },
  {
   "cell_type": "markdown",
   "id": "abroad-conflict",
   "metadata": {},
   "source": [
    "To calculate the skeleton graph from this, each non-zero pixel gets an integer id number"
   ]
  },
  {
   "cell_type": "code",
   "execution_count": 2,
   "id": "italian-strand",
   "metadata": {},
   "outputs": [
    {
     "name": "stdout",
     "output_type": "stream",
     "text": [
      "[[ 0  0  0  1  0  0  0]\n",
      " [ 0  0  0  2  0  0  0]\n",
      " [ 0  0  0  3  0  0  0]\n",
      " [ 4  5  6  7  8  9 10]]\n"
     ]
    }
   ],
   "source": [
    "import numpy as np\n",
    "import scipy.ndimage as ndi\n",
    "\n",
    "ndim = skel.ndim\n",
    "\n",
    "structure_kernel = np.zeros((3,) * ndim)\n",
    "structure_kernel[(1,) * ndim] = 1  # add centre pixel\n",
    "skelint, num_features = ndi.label(skel, structure=structure_kernel)\n",
    "\n",
    "print(skelint)"
   ]
  },
  {
   "cell_type": "markdown",
   "id": "reliable-pilot",
   "metadata": {},
   "source": [
    "This happens inside the [`skeleton_to_csgraph`](https://jni.github.io/skan/api/skan.csr.html#skan.csr.skeleton_to_csgraph) function, which then goes on to calculate the skeleton graph."
   ]
  },
  {
   "cell_type": "code",
   "execution_count": 3,
   "id": "human-beatles",
   "metadata": {},
   "outputs": [
    {
     "data": {
      "text/plain": [
       "<matplotlib.image.AxesImage at 0x7fd43181cc10>"
      ]
     },
     "execution_count": 3,
     "metadata": {},
     "output_type": "execute_result"
    },
    {
     "data": {
      "image/png": "[encoded data removed]",
      "text/plain": [
       "<Figure size 432x288 with 1 Axes>"
      ]
     },
     "metadata": {
      "needs_background": "light"
     },
     "output_type": "display_data"
    }
   ],
   "source": [
    "from skan import skeleton_to_csgraph\n",
    "\n",
    "pixel_graph, coordinates, degrees = skeleton_to_csgraph(skel, unique_junctions=False)\n",
    "\n",
    "plt.imshow(pixel_graph.todense())"
   ]
  },
  {
   "cell_type": "markdown",
   "id": "continued-miami",
   "metadata": {},
   "source": [
    "Every two pixels that are connected in the original skeleton, become a point in the skeleton graph adjacency matrix (shown above). The location is determined by the integer id values of the pixels, and the value is determined by the distance between the pixel centers.\n",
    "\n",
    "This article walks through the basics of how to create a skeleton graph adjacency matrix: https://people.revoledu.com/kardi/tutorial/GraphTheory/Adjacency-Matrix.html\n",
    "\n",
    "In the skan documentation, it is described like this:\n",
    "\n",
    "> The pixel graph is a SciPy [CSR matrix](https://docs.scipy.org/doc/scipy/reference/generated/scipy.sparse.csr_matrix.html) in which entry *(i,j)* is 0 if pixels *i* and *j* are not connected, and otherwise is equal to the distance between pixels *i* and *j* in the skeleton"
   ]
  },
  {
   "cell_type": "markdown",
   "id": "incomplete-course",
   "metadata": {},
   "source": [
    "For more sophisticated analyses, the [`skan.Skeleton`](https://jni.github.io/skan/api/skan.csr.html#skan.csr.Skeleton)  class provides a way to keep all relevant information (the CSR matrix, the image, the node coordinates…) together."
   ]
  },
  {
   "cell_type": "code",
   "execution_count": 4,
   "id": "specialized-appliance",
   "metadata": {},
   "outputs": [],
   "source": [
    "from skan import Skeleton\n",
    "\n",
    "skeleton_object = Skeleton(skel, unique_junctions=False)"
   ]
  },
  {
   "cell_type": "markdown",
   "id": "unique-wales",
   "metadata": {},
   "source": [
    "A [`skan.Skeleton`](https://jni.github.io/skan/api/skan.csr.html#skan.csr.Skeleton) object contains the attributes:\n",
    "\n",
    "* graph\n",
    "* nbgraph\n",
    "* coordinates\n",
    "* paths\n",
    "* n_paths\n",
    "* distances\n",
    "* _distances_initialized\n",
    "* skeleton_image\n",
    "* source_image\n",
    "* degrees_image\n",
    "* degrees\n",
    "* spacing\n"
   ]
  },
  {
   "cell_type": "markdown",
   "id": "amber-latvia",
   "metadata": {},
   "source": [
    "We can see the skeleton graph belonging to it, just like before."
   ]
  },
  {
   "cell_type": "code",
   "execution_count": 5,
   "id": "distinguished-concord",
   "metadata": {},
   "outputs": [
    {
     "data": {
      "text/plain": [
       "<matplotlib.image.AxesImage at 0x7fd4311eff90>"
      ]
     },
     "execution_count": 5,
     "metadata": {},
     "output_type": "execute_result"
    },
    {
     "data": {
      "image/png": "[encoded data removed]",
      "text/plain": [
       "<Figure size 432x288 with 1 Axes>"
      ]
     },
     "metadata": {
      "needs_background": "light"
     },
     "output_type": "display_data"
    }
   ],
   "source": [
    "plt.imshow(skeleton_object.graph.todense())"
   ]
  },
  {
   "cell_type": "markdown",
   "id": "restricted-antenna",
   "metadata": {},
   "source": [
    "### Skeleton branch statistics\n",
    "\n",
    "Skeleton branch statistics can be calculated using the [skan `summarize`](https://jni.github.io/skan/api/skan.csr.html#skan.csr.summarize) function."
   ]
  },
  {
   "cell_type": "code",
   "execution_count": 6,
   "id": "advisory-punishment",
   "metadata": {},
   "outputs": [
    {
     "data": {
      "text/html": [
       "<div>\n",
       "<style scoped>\n",
       "    .dataframe tbody tr th:only-of-type {\n",
       "        vertical-align: middle;\n",
       "    }\n",
       "\n",
       "    .dataframe tbody tr th {\n",
       "        vertical-align: top;\n",
       "    }\n",
       "\n",
       "    .dataframe thead th {\n",
       "        text-align: right;\n",
       "    }\n",
       "</style>\n",
       "<table border=\"1\" class=\"dataframe\">\n",
       "  <thead>\n",
       "    <tr style=\"text-align: right;\">\n",
       "      <th></th>\n",
       "      <th>skeleton-id</th>\n",
       "      <th>node-id-src</th>\n",
       "      <th>node-id-dst</th>\n",
       "      <th>branch-distance</th>\n",
       "      <th>branch-type</th>\n",
       "      <th>mean-pixel-value</th>\n",
       "      <th>stdev-pixel-value</th>\n",
       "      <th>image-coord-src-0</th>\n",
       "      <th>image-coord-src-1</th>\n",
       "      <th>image-coord-dst-0</th>\n",
       "      <th>image-coord-dst-1</th>\n",
       "      <th>coord-src-0</th>\n",
       "      <th>coord-src-1</th>\n",
       "      <th>coord-dst-0</th>\n",
       "      <th>coord-dst-1</th>\n",
       "      <th>euclidean-distance</th>\n",
       "    </tr>\n",
       "  </thead>\n",
       "  <tbody>\n",
       "    <tr>\n",
       "      <th>0</th>\n",
       "      <td>1</td>\n",
       "      <td>1</td>\n",
       "      <td>3</td>\n",
       "      <td>2.000000</td>\n",
       "      <td>1</td>\n",
       "      <td>1.0</td>\n",
       "      <td>0.0</td>\n",
       "      <td>0.0</td>\n",
       "      <td>3.0</td>\n",
       "      <td>2.0</td>\n",
       "      <td>3.0</td>\n",
       "      <td>0.0</td>\n",
       "      <td>3.0</td>\n",
       "      <td>2.0</td>\n",
       "      <td>3.0</td>\n",
       "      <td>2.000000</td>\n",
       "    </tr>\n",
       "    <tr>\n",
       "      <th>1</th>\n",
       "      <td>1</td>\n",
       "      <td>3</td>\n",
       "      <td>6</td>\n",
       "      <td>1.414214</td>\n",
       "      <td>2</td>\n",
       "      <td>1.0</td>\n",
       "      <td>0.0</td>\n",
       "      <td>2.0</td>\n",
       "      <td>3.0</td>\n",
       "      <td>3.0</td>\n",
       "      <td>2.0</td>\n",
       "      <td>2.0</td>\n",
       "      <td>3.0</td>\n",
       "      <td>3.0</td>\n",
       "      <td>2.0</td>\n",
       "      <td>1.414214</td>\n",
       "    </tr>\n",
       "    <tr>\n",
       "      <th>2</th>\n",
       "      <td>1</td>\n",
       "      <td>3</td>\n",
       "      <td>7</td>\n",
       "      <td>1.000000</td>\n",
       "      <td>2</td>\n",
       "      <td>1.0</td>\n",
       "      <td>0.0</td>\n",
       "      <td>2.0</td>\n",
       "      <td>3.0</td>\n",
       "      <td>3.0</td>\n",
       "      <td>3.0</td>\n",
       "      <td>2.0</td>\n",
       "      <td>3.0</td>\n",
       "      <td>3.0</td>\n",
       "      <td>3.0</td>\n",
       "      <td>1.000000</td>\n",
       "    </tr>\n",
       "    <tr>\n",
       "      <th>3</th>\n",
       "      <td>1</td>\n",
       "      <td>3</td>\n",
       "      <td>8</td>\n",
       "      <td>1.414214</td>\n",
       "      <td>2</td>\n",
       "      <td>1.0</td>\n",
       "      <td>0.0</td>\n",
       "      <td>2.0</td>\n",
       "      <td>3.0</td>\n",
       "      <td>3.0</td>\n",
       "      <td>4.0</td>\n",
       "      <td>2.0</td>\n",
       "      <td>3.0</td>\n",
       "      <td>3.0</td>\n",
       "      <td>4.0</td>\n",
       "      <td>1.414214</td>\n",
       "    </tr>\n",
       "    <tr>\n",
       "      <th>4</th>\n",
       "      <td>1</td>\n",
       "      <td>4</td>\n",
       "      <td>6</td>\n",
       "      <td>2.000000</td>\n",
       "      <td>1</td>\n",
       "      <td>1.0</td>\n",
       "      <td>0.0</td>\n",
       "      <td>3.0</td>\n",
       "      <td>0.0</td>\n",
       "      <td>3.0</td>\n",
       "      <td>2.0</td>\n",
       "      <td>3.0</td>\n",
       "      <td>0.0</td>\n",
       "      <td>3.0</td>\n",
       "      <td>2.0</td>\n",
       "      <td>2.000000</td>\n",
       "    </tr>\n",
       "    <tr>\n",
       "      <th>5</th>\n",
       "      <td>1</td>\n",
       "      <td>8</td>\n",
       "      <td>10</td>\n",
       "      <td>2.000000</td>\n",
       "      <td>1</td>\n",
       "      <td>1.0</td>\n",
       "      <td>0.0</td>\n",
       "      <td>3.0</td>\n",
       "      <td>4.0</td>\n",
       "      <td>3.0</td>\n",
       "      <td>6.0</td>\n",
       "      <td>3.0</td>\n",
       "      <td>4.0</td>\n",
       "      <td>3.0</td>\n",
       "      <td>6.0</td>\n",
       "      <td>2.000000</td>\n",
       "    </tr>\n",
       "  </tbody>\n",
       "</table>\n",
       "</div>"
      ],
      "text/plain": [
       "   skeleton-id  node-id-src  node-id-dst  branch-distance  branch-type  \\\n",
       "0            1            1            3         2.000000            1   \n",
       "1            1            3            6         1.414214            2   \n",
       "2            1            3            7         1.000000            2   \n",
       "3            1            3            8         1.414214            2   \n",
       "4            1            4            6         2.000000            1   \n",
       "5            1            8           10         2.000000            1   \n",
       "\n",
       "   mean-pixel-value  stdev-pixel-value  image-coord-src-0  image-coord-src-1  \\\n",
       "0               1.0                0.0                0.0                3.0   \n",
       "1               1.0                0.0                2.0                3.0   \n",
       "2               1.0                0.0                2.0                3.0   \n",
       "3               1.0                0.0                2.0                3.0   \n",
       "4               1.0                0.0                3.0                0.0   \n",
       "5               1.0                0.0                3.0                4.0   \n",
       "\n",
       "   image-coord-dst-0  image-coord-dst-1  coord-src-0  coord-src-1  \\\n",
       "0                2.0                3.0          0.0          3.0   \n",
       "1                3.0                2.0          2.0          3.0   \n",
       "2                3.0                3.0          2.0          3.0   \n",
       "3                3.0                4.0          2.0          3.0   \n",
       "4                3.0                2.0          3.0          0.0   \n",
       "5                3.0                6.0          3.0          4.0   \n",
       "\n",
       "   coord-dst-0  coord-dst-1  euclidean-distance  \n",
       "0          2.0          3.0            2.000000  \n",
       "1          3.0          2.0            1.414214  \n",
       "2          3.0          3.0            1.000000  \n",
       "3          3.0          4.0            1.414214  \n",
       "4          3.0          2.0            2.000000  \n",
       "5          3.0          6.0            2.000000  "
      ]
     },
     "execution_count": 6,
     "metadata": {},
     "output_type": "execute_result"
    }
   ],
   "source": [
    "from skan import summarize\n",
    "\n",
    "branch_data = summarize(skeleton_object)\n",
    "branch_data"
   ]
  },
  {
   "cell_type": "markdown",
   "id": "proud-newfoundland",
   "metadata": {},
   "source": [
    "## Distributed skeleton analysis with Dask\n",
    "\n",
    "We want to do skeleton analysis on very large input images. We'll use Dask for this. First, we'll show the method for this using some test data. Then, we'll run distributed skeleton analysis on a real-world dataset.\n",
    "\n",
    "We rely on one big assumption: once skeletonized the reduced non-zero pixel data will fit into memory. While this holds true for datasets of this size (the cropped rabbit lung datasets are roughly 1000 x 1000 x 1000 pixels), it may not hold true for much larger data.\n",
    "\n",
    "### Start the Dask dashboard"
   ]
  },
  {
   "cell_type": "code",
   "execution_count": 7,
   "id": "tutorial-truck",
   "metadata": {},
   "outputs": [
    {
     "data": {
      "text/html": [
       "<table style=\"border: 2px solid white;\">\n",
       "<tr>\n",
       "<td style=\"vertical-align: top; border: 0px solid white\">\n",
       "<h3 style=\"text-align: left;\">Client</h3>\n",
       "<ul style=\"text-align: left; list-style: none; margin: 0; padding: 0;\">\n",
       "  <li><b>Scheduler: </b>tcp://127.0.0.1:46543</li>\n",
       "  <li><b>Dashboard: </b><a href='http://127.0.0.1:39693/status' target='_blank'>http://127.0.0.1:39693/status</a></li>\n",
       "</ul>\n",
       "</td>\n",
       "<td style=\"vertical-align: top; border: 0px solid white\">\n",
       "<h3 style=\"text-align: left;\">Cluster</h3>\n",
       "<ul style=\"text-align: left; list-style:none; margin: 0; padding: 0;\">\n",
       "  <li><b>Workers: </b>4</li>\n",
       "  <li><b>Cores: </b>12</li>\n",
       "  <li><b>Memory: </b>16.54 GB</li>\n",
       "</ul>\n",
       "</td>\n",
       "</tr>\n",
       "</table>"
      ],
      "text/plain": [
       "<Client: 'tcp://127.0.0.1:46543' processes=4 threads=12, memory=16.54 GB>"
      ]
     },
     "execution_count": 7,
     "metadata": {},
     "output_type": "execute_result"
    }
   ],
   "source": [
    "from dask.distributed import Client\n",
    "\n",
    "client = Client()\n",
    "client"
   ]
  },
  {
   "cell_type": "markdown",
   "id": "extreme-stewart",
   "metadata": {},
   "source": [
    "First we load the skeleton data into a Dask array."
   ]
  },
  {
   "cell_type": "code",
   "execution_count": 8,
   "id": "greatest-slave",
   "metadata": {},
   "outputs": [
    {
     "name": "stdout",
     "output_type": "stream",
     "text": [
      "chunks:  ((4,), (7, 7))\n"
     ]
    },
    {
     "data": {
      "text/html": [
       "<table>\n",
       "<tr>\n",
       "<td>\n",
       "<table>\n",
       "  <thead>\n",
       "    <tr><td> </td><th> Array </th><th> Chunk </th></tr>\n",
       "  </thead>\n",
       "  <tbody>\n",
       "    <tr><th> Bytes </th><td> 56 B </td> <td> 28 B </td></tr>\n",
       "    <tr><th> Shape </th><td> (4, 14) </td> <td> (4, 7) </td></tr>\n",
       "    <tr><th> Count </th><td> 3 Tasks </td><td> 2 Chunks </td></tr>\n",
       "    <tr><th> Type </th><td> bool </td><td> numpy.ndarray </td></tr>\n",
       "  </tbody>\n",
       "</table>\n",
       "</td>\n",
       "<td>\n",
       "<svg width=\"170\" height=\"93\" style=\"stroke:rgb(0,0,0);stroke-width:1\" >\n",
       "\n",
       "  <!-- Horizontal lines -->\n",
       "  <line x1=\"0\" y1=\"0\" x2=\"120\" y2=\"0\" style=\"stroke-width:2\" />\n",
       "  <line x1=\"0\" y1=\"43\" x2=\"120\" y2=\"43\" style=\"stroke-width:2\" />\n",
       "\n",
       "  <!-- Vertical lines -->\n",
       "  <line x1=\"0\" y1=\"0\" x2=\"0\" y2=\"43\" style=\"stroke-width:2\" />\n",
       "  <line x1=\"60\" y1=\"0\" x2=\"60\" y2=\"43\" />\n",
       "  <line x1=\"120\" y1=\"0\" x2=\"120\" y2=\"43\" style=\"stroke-width:2\" />\n",
       "\n",
       "  <!-- Colored Rectangle -->\n",
       "  <polygon points=\"0.0,0.0 120.0,0.0 120.0,43.37894337633637 0.0,43.37894337633637\" style=\"fill:#ECB172A0;stroke-width:0\"/>\n",
       "\n",
       "  <!-- Text -->\n",
       "  <text x=\"60.000000\" y=\"63.378943\" font-size=\"1.0rem\" font-weight=\"100\" text-anchor=\"middle\" >14</text>\n",
       "  <text x=\"140.000000\" y=\"21.689472\" font-size=\"1.0rem\" font-weight=\"100\" text-anchor=\"middle\" transform=\"rotate(0,140.000000,21.689472)\">4</text>\n",
       "</svg>\n",
       "</td>\n",
       "</tr>\n",
       "</table>"
      ],
      "text/plain": [
       "dask.array<concatenate, shape=(4, 14), dtype=bool, chunksize=(4, 7), chunktype=numpy.ndarray>"
      ]
     },
     "execution_count": 8,
     "metadata": {},
     "output_type": "execute_result"
    }
   ],
   "source": [
    "import dask.array as da\n",
    "from skan._testdata import skeleton0\n",
    "\n",
    "skel = da.block([skeleton0, skeleton0])\n",
    "print(\"chunks: \", skel.chunks)\n",
    "skel"
   ]
  },
  {
   "cell_type": "code",
   "execution_count": 9,
   "id": "cordless-consistency",
   "metadata": {},
   "outputs": [
    {
     "data": {
      "text/plain": [
       "<matplotlib.image.AxesImage at 0x7fd430117250>"
      ]
     },
     "execution_count": 9,
     "metadata": {},
     "output_type": "execute_result"
    },
    {
     "data": {
      "image/png": "[encoded data removed]",
      "text/plain": [
       "<Figure size 432x288 with 1 Axes>"
      ]
     },
     "metadata": {
      "needs_background": "light"
     },
     "output_type": "display_data"
    }
   ],
   "source": [
    "# This is what our very simple dask array looks like\n",
    "plt.imshow(skel)"
   ]
  },
  {
   "cell_type": "markdown",
   "id": "legal-antibody",
   "metadata": {},
   "source": [
    "The [skan `skeleton_to_csgraph`](https://jni.github.io/skan/api/skan.csr.html#skan.csr.skeleton_to_csgraph) function is not currently compatible with Dask. (The latest skan version is currently 0.9.0). Because of this, we can't use this function directly, instread we need to calculate each piece for ourselves."
   ]
  },
  {
   "cell_type": "markdown",
   "id": "advised-model",
   "metadata": {},
   "source": [
    "We label all the non-zero pixels with integer id numbers, using the `dask-image` library."
   ]
  },
  {
   "cell_type": "code",
   "execution_count": 10,
   "id": "timely-anime",
   "metadata": {},
   "outputs": [
    {
     "data": {
      "text/plain": [
       "array([[ 0,  0,  0,  1,  0,  0,  0,  0,  0,  0, 11,  0,  0,  0],\n",
       "       [ 0,  0,  0,  2,  0,  0,  0,  0,  0,  0, 12,  0,  0,  0],\n",
       "       [ 0,  0,  0,  3,  0,  0,  0,  0,  0,  0, 13,  0,  0,  0],\n",
       "       [ 4,  5,  6,  7,  8,  9, 10, 14, 15, 16, 17, 18, 19, 20]],\n",
       "      dtype=int32)"
      ]
     },
     "execution_count": 10,
     "metadata": {},
     "output_type": "execute_result"
    }
   ],
   "source": [
    "from dask_image.ndmeasure import label\n",
    "\n",
    "ndim = skel.ndim\n",
    "structure_kernel = np.zeros((3,) * ndim)\n",
    "structure_kernel[(1,) * ndim] = 1  # add centre pixel\n",
    "skelint, num_features = label(skel, structure=structure_kernel)\n",
    "\n",
    "skelint.compute()  # show the result"
   ]
  },
  {
   "cell_type": "markdown",
   "id": "outstanding-malaysia",
   "metadata": {},
   "source": [
    "Next, we also label pixels based on how many neighbors they have in the skeleton. We can do this with the `convolve` function in `dask-image`."
   ]
  },
  {
   "cell_type": "code",
   "execution_count": 11,
   "id": "figured-hollywood",
   "metadata": {},
   "outputs": [
    {
     "data": {
      "image/png": "[encoded data removed]",
      "text/plain": [
       "<Figure size 432x288 with 1 Axes>"
      ]
     },
     "metadata": {
      "needs_background": "light"
     },
     "output_type": "display_data"
    },
    {
     "name": "stdout",
     "output_type": "stream",
     "text": [
      "[[0 0 0 1 0 0 0 0 0 0 1 0 0 0]\n",
      " [0 0 0 2 0 0 0 0 0 0 2 0 0 0]\n",
      " [0 0 0 4 0 0 0 0 0 0 4 0 0 0]\n",
      " [1 2 3 3 3 2 2 2 2 3 3 3 2 1]]\n"
     ]
    }
   ],
   "source": [
    "from dask_image.ndfilters import convolve\n",
    "\n",
    "degree_kernel = np.ones((3,) * ndim)\n",
    "degree_kernel[(1,) * ndim] = 0  # remove centre pixel\n",
    "degrees_image = convolve(skel.astype(int), degree_kernel,\n",
    "                        mode='constant') * skel\n",
    "\n",
    "# Show the results\n",
    "plt.imshow(degrees_image)\n",
    "plt.show()\n",
    "print(degrees_image.compute())"
   ]
  },
  {
   "cell_type": "markdown",
   "id": "cellular-martin",
   "metadata": {},
   "source": [
    "To make the skeleton graph, it's a little more complicated. We'll have to use [Dask delayed](https://docs.dask.org/en/latest/delayed.html) on a function that will take in a chunk of the array and compute the values we need for the skeleton graph."
   ]
  },
  {
   "cell_type": "code",
   "execution_count": 12,
   "id": "portuguese-stupid",
   "metadata": {},
   "outputs": [],
   "source": [
    "from dask.delayed import delayed\n",
    "import pandas as pd\n",
    "import numpy as np\n",
    "import scipy\n",
    "\n",
    "from skan.nputil import raveled_steps_to_neighbors\n",
    "from skan.csr import _write_pixel_graph\n",
    "\n",
    "\n",
    "@delayed\n",
    "def skeleton_graph_func(skelint, spacing=1):\n",
    "    ndim = skelint.ndim\n",
    "    spacing = np.ones(ndim, dtype=float) * spacing\n",
    "    num_edges = _num_edges(skelint.astype(bool))\n",
    "    padded_skelint = np.pad(skelint, 1)  # pad image to prevent looparound errors\n",
    "    steps, distances = raveled_steps_to_neighbors(padded_skelint.shape, ndim,\n",
    "                                                  spacing=spacing)\n",
    "\n",
    "    # from function skan.csr._pixel_graph\n",
    "    row = np.empty(num_edges, dtype=int)\n",
    "    col = np.empty(num_edges, dtype=int)\n",
    "    data = np.empty(num_edges, dtype=float)\n",
    "    k = _write_pixel_graph(padded_skelint, steps, distances, row, col, data)\n",
    "\n",
    "    return pd.DataFrame({\"row\": row, \"col\": col, \"data\": data})\n",
    "\n",
    "def _num_edges(skel):\n",
    "    degree_kernel = np.ones((3,) * ndim)\n",
    "    degree_kernel[(1,) * ndim] = 0  # remove centre pixel\n",
    "    degree_image = scipy.ndimage.convolve(skel.astype(int),\n",
    "                                          degree_kernel,\n",
    "                                          mode='constant') * skel\n",
    "    num_edges = np.sum(degree_image)\n",
    "    return int(num_edges)"
   ]
  },
  {
   "cell_type": "markdown",
   "id": "public-sydney",
   "metadata": {},
   "source": [
    "It's important to have a 1 pixel overlap between our array chunks, so that we can tell if a skeleton branch is ending or continuing on into the next chunk. For that, we'll need a way to grab the array chunk with a one pixel overlap. Ordinarily, we'd use `map_overlap` to handle that, but the ragged output shapes from the analysis function. Instead, here we'll write a function to slice an array chunk with some overlap."
   ]
  },
  {
   "cell_type": "code",
   "execution_count": 13,
   "id": "neural-sector",
   "metadata": {},
   "outputs": [],
   "source": [
    "# Mofified from slices_from_chunks from dask.array.core\n",
    "from itertools import product\n",
    "from dask.array.slicing import cached_cumsum\n",
    "\n",
    "\n",
    "def slices_from_chunks_overlap(chunks, array_shape, depth=1):\n",
    "    \"\"\"Translate chunks tuple to a set of slices in product order\n",
    "\n",
    "    Parameters\n",
    "    ----------\n",
    "    chunks : tuple\n",
    "        The chunks of the corresponding dask array.\n",
    "    array_shape : tuple\n",
    "        Shape of the corresponding dask array.\n",
    "    depth : int\n",
    "        The number of pixels to overlap, providing we're not at the array edge.\n",
    "\n",
    "    Example\n",
    "    -------\n",
    "    >>> slices_from_chunks_overlap(((4,), (7, 7)), (4, 14), depth=1)  # doctest: +NORMALIZE_WHITESPACE\n",
    "     [(slice(0, 5, None), slice(0, 8, None)),\n",
    "      (slice(0, 5, None), slice(6, 15, None))]\n",
    "    \"\"\"\n",
    "    cumdims = [cached_cumsum(bds, initial_zero=True) for bds in chunks]\n",
    "\n",
    "    slices = []\n",
    "    for starts, shapes in zip(cumdims, chunks):\n",
    "        inner_slices = []\n",
    "        for s, dim, maxshape in zip(starts, shapes, array_shape):\n",
    "            slice_start = s\n",
    "            slice_stop = s + dim\n",
    "            if slice_start > 0:\n",
    "                slice_start -= depth\n",
    "            if slice_stop >= maxshape:\n",
    "                slice_stop += depth\n",
    "            inner_slices.append(slice(slice_start, slice_stop))\n",
    "        slices.append(inner_slices)\n",
    "    \n",
    "    return list(product(*slices))\n"
   ]
  },
  {
   "cell_type": "markdown",
   "id": "talented-letters",
   "metadata": {},
   "source": [
    "With both of those things in place, we're ready to calculate the results."
   ]
  },
  {
   "cell_type": "code",
   "execution_count": 14,
   "id": "relevant-triumph",
   "metadata": {
    "scrolled": false
   },
   "outputs": [
    {
     "name": "stdout",
     "output_type": "stream",
     "text": [
      "48\n"
     ]
    },
    {
     "data": {
      "text/html": [
       "<div><strong>Dask DataFrame Structure:</strong></div>\n",
       "<div>\n",
       "<style scoped>\n",
       "    .dataframe tbody tr th:only-of-type {\n",
       "        vertical-align: middle;\n",
       "    }\n",
       "\n",
       "    .dataframe tbody tr th {\n",
       "        vertical-align: top;\n",
       "    }\n",
       "\n",
       "    .dataframe thead th {\n",
       "        text-align: right;\n",
       "    }\n",
       "</style>\n",
       "<table border=\"1\" class=\"dataframe\">\n",
       "  <thead>\n",
       "    <tr style=\"text-align: right;\">\n",
       "      <th></th>\n",
       "      <th>row</th>\n",
       "      <th>col</th>\n",
       "      <th>data</th>\n",
       "    </tr>\n",
       "    <tr>\n",
       "      <th>npartitions=2</th>\n",
       "      <th></th>\n",
       "      <th></th>\n",
       "      <th></th>\n",
       "    </tr>\n",
       "  </thead>\n",
       "  <tbody>\n",
       "    <tr>\n",
       "      <th></th>\n",
       "      <td>int64</td>\n",
       "      <td>int64</td>\n",
       "      <td>float64</td>\n",
       "    </tr>\n",
       "    <tr>\n",
       "      <th></th>\n",
       "      <td>...</td>\n",
       "      <td>...</td>\n",
       "      <td>...</td>\n",
       "    </tr>\n",
       "    <tr>\n",
       "      <th></th>\n",
       "      <td>...</td>\n",
       "      <td>...</td>\n",
       "      <td>...</td>\n",
       "    </tr>\n",
       "  </tbody>\n",
       "</table>\n",
       "</div>\n",
       "<div>Dask Name: concat, 54 tasks</div>"
      ],
      "text/plain": [
       "Dask DataFrame Structure:\n",
       "                 row    col     data\n",
       "npartitions=2                       \n",
       "               int64  int64  float64\n",
       "                 ...    ...      ...\n",
       "                 ...    ...      ...\n",
       "Dask Name: concat, 54 tasks"
      ]
     },
     "execution_count": 14,
     "metadata": {},
     "output_type": "execute_result"
    }
   ],
   "source": [
    "import functools\n",
    "import operator\n",
    "\n",
    "import numpy as np\n",
    "import dask.dataframe as dd\n",
    "\n",
    "\n",
    "image = skelint\n",
    "\n",
    "block_iter = zip(\n",
    "    np.ndindex(*image.numblocks),\n",
    "    map(functools.partial(operator.getitem, image),\n",
    "        slices_from_chunks_overlap(image.chunks, image.shape, depth=1))\n",
    ")\n",
    "\n",
    "meta = dd.utils.make_meta([('row', np.int64), ('col', np.int64), ('data', np.float64)])  # it's very important to include meta\n",
    "intermediate_results = [dd.from_delayed(skeleton_graph_func(block), meta=meta) for _, block in block_iter]\n",
    "results = dd.concat(intermediate_results)\n",
    "\n",
    "print(len(results))\n",
    "results"
   ]
  },
  {
   "cell_type": "markdown",
   "id": "proprietary-birth",
   "metadata": {},
   "source": [
    "**Warning:** It's very important to pass in a `meta` keyword argument to the function `from_delayed`. Without it, things will be extremely inefficient!\n",
    "\n",
    "If the `meta` keyword argument is not given, Dask will try and work out what it should be. Ordinarily that might be a good thing, but inside a list comprehension that means those tasks are computed slowly and sequentially before the main computation even begins, which is horribly inefficient. Since we know ahead of time what kinds of results we expect from our analysis function (we just don't know the length of each set of results), we can use the [`utils.make_meta`](https://docs.dask.org/en/latest/dataframe-api.html#dask.dataframe.utils.make_meta) function to help us here."
   ]
  },
  {
   "cell_type": "markdown",
   "id": "above-candle",
   "metadata": {},
   "source": [
    "#### Dropping duplicates\n",
    "\n",
    "It's necessary to drop any duplicates from these results. Any non-zero pixels in the overlapping region between chunks will have been accidentally counted twice."
   ]
  },
  {
   "cell_type": "code",
   "execution_count": 15,
   "id": "answering-closing",
   "metadata": {},
   "outputs": [],
   "source": [
    "# drop duplicates from the results\n",
    "results = results.drop_duplicates()"
   ]
  },
  {
   "cell_type": "code",
   "execution_count": 16,
   "id": "exempt-training",
   "metadata": {},
   "outputs": [
    {
     "data": {
      "text/plain": [
       "<21x21 sparse matrix of type '<class 'numpy.float64'>'\n",
       "\twith 46 stored elements in Compressed Sparse Row format>"
      ]
     },
     "execution_count": 16,
     "metadata": {},
     "output_type": "execute_result"
    }
   ],
   "source": [
    "# computes dask results, brings everything into memory before creating sparse graph\n",
    "from scipy import sparse\n",
    "\n",
    "k = len(results)\n",
    "row = np.array(results['row'])\n",
    "col = np.array(results['col'])\n",
    "data = np.array(results['data'])\n",
    "\n",
    "graph = sparse.coo_matrix((data[:k], (row[:k], col[:k]))).tocsr()\n",
    "graph"
   ]
  },
  {
   "cell_type": "code",
   "execution_count": 17,
   "id": "agricultural-subscription",
   "metadata": {},
   "outputs": [
    {
     "data": {
      "text/plain": [
       "<matplotlib.image.AxesImage at 0x7fd40a166f90>"
      ]
     },
     "execution_count": 17,
     "metadata": {},
     "output_type": "execute_result"
    },
    {
     "data": {
      "image/png": "[encoded data removed]",
      "text/plain": [
       "<Figure size 432x288 with 1 Axes>"
      ]
     },
     "metadata": {
      "needs_background": "light"
     },
     "output_type": "display_data"
    }
   ],
   "source": [
    "plt.xticks(ticks=np.arange(0, 21, 1))\n",
    "plt.yticks(ticks=np.arange(0, 21, 1))\n",
    "plt.imshow(graph.todense())"
   ]
  },
  {
   "cell_type": "markdown",
   "id": "dutch-sentence",
   "metadata": {},
   "source": [
    "### Distributed analysis - skeleton branch statistics\n",
    "\n",
    "Skeleton branch statistics can be calculate with the [skan `summarize`](https://jni.github.io/skan/api/skan.csr.html#skan.csr.summarize) function. The problem here is that the function expects a [`Skeleton`](https://jni.github.io/skan/api/skan.csr.html#skan.csr.Skeleton) object instance, but initializing a `Skeleton` object calls methods that are not compatible for distributed analysis.\n",
    "\n",
    "We'll solve this problem by first initializing a [`Skeleton`](https://jni.github.io/skan/api/skan.csr.html#skan.csr.Skeleton) object instance with a tiny dummy dataset, then overwriting the attributes of the skeleton object with our real results. This is a hack, but it lets us achieve our goal: summary branch statistics for our large dataset.\n",
    "\n",
    "First we make a Skeleton object instance with dummy data:\n"
   ]
  },
  {
   "cell_type": "code",
   "execution_count": 18,
   "id": "declared-destruction",
   "metadata": {},
   "outputs": [],
   "source": [
    "from skan import Skeleton\n",
    "\n",
    "skel_obj = Skeleton(np.eye(5))  # initialize with dummy data"
   ]
  },
  {
   "cell_type": "markdown",
   "id": "standard-authorization",
   "metadata": {},
   "source": [
    "Now we overwrite the skeleton object attributes with the real data. We've already calculated some of these, and the others we'll calculate now.\n",
    "\n",
    "Attributes belonging to the Skeleton class are:\n",
    "* skeleton_image - the original boolean skeleton image\n",
    "* source_image - you may have a raw image, before skeletonization\n",
    "* spacing - the pixel spacing (default is 1)\n",
    "* graph - the skeleton graph adjacency matrix\n",
    "* nbgraph - a numba-compatible version of the skeleton graph\n",
    "* n_paths - the number of paths through the skeleton\n",
    "* paths - a list of each individual path through the skeleton\n",
    "* degrees_image - image with each pixel labelled by the number of neighbors\n",
    "* degrees - A 1D array of the non-zero pixel degree values, in order of the pixel id numbers\n",
    "* distances - \n"
   ]
  },
  {
   "cell_type": "code",
   "execution_count": 19,
   "id": "subject-explorer",
   "metadata": {},
   "outputs": [],
   "source": [
    "skel_obj.skeleton_image = skel\n",
    "# skel_obj.source_image = raw_data  # if you have a raw data image\n",
    "skel_obj.spacing = [1] * skel.ndim  # pixel/voxel size\n",
    "skel_obj.graph = graph\n",
    "skel_obj.degrees_image = degrees_image"
   ]
  },
  {
   "cell_type": "code",
   "execution_count": 20,
   "id": "violent-assets",
   "metadata": {},
   "outputs": [],
   "source": [
    "# Calculate the degrees attribute\n",
    "nonzero_degree_values = degrees_image[degrees_image > 0].compute()  # triggers Dask computation\n",
    "degrees = np.concatenate((np.array([0]), nonzero_degree_values))\n",
    "\n",
    "skel_obj.degrees = degrees"
   ]
  },
  {
   "cell_type": "markdown",
   "id": "ecological-handbook",
   "metadata": {},
   "source": [
    "Skan also needs a numba-compatible version of the skeleton graph adjacency matrix. This is a little more complicated to create."
   ]
  },
  {
   "cell_type": "code",
   "execution_count": 21,
   "id": "amber-penguin",
   "metadata": {},
   "outputs": [],
   "source": [
    "# node_prop for Skeleton class, so we can get the NBGraph (numba-ified graph)\n",
    "nonzero_pixel_ids = skelint[skelint > 0]\n",
    "sorted_indices = np.argsort(nonzero_pixel_ids)  # coerces to a numpy array, Dask doesn't implement argsort()\n",
    "\n",
    "raw_data = da.random.random(skelint.shape)  # make some dummy data, since the test skeleton doesn't have a raw image\n",
    "nonzero_pixel_intensity = raw_data[skelint > 0]\n",
    "nonzero_pixel_intensity.compute_chunk_sizes()  # important, otherwise the indexing with sorted_indices thinks it's out of bounds\n",
    "node_props = nonzero_pixel_intensity[sorted_indices].compute()  # trigger Dask computation\n",
    "node_props = np.concatenate((np.array([0]), node_props))  # add a dummy index\n",
    "\n",
    "from skan.csr import csr_to_nbgraph\n",
    "\n",
    "nbgraph = csr_to_nbgraph(graph, node_props=None)  # node_props=None is the default\n",
    "# nbgraph = csr_to_nbgraph(graph, node_props=node_props)  # node_props=None is the default\n",
    "\n",
    "skel_obj.nbgraph = nbgraph"
   ]
  },
  {
   "cell_type": "markdown",
   "id": "female-stake",
   "metadata": {},
   "source": [
    "We also need to tell skan the non-zero pixel locations from our skeleton image."
   ]
  },
  {
   "cell_type": "code",
   "execution_count": 22,
   "id": "classical-legislature",
   "metadata": {},
   "outputs": [],
   "source": [
    "pixel_indices = np.concatenate(([[0.] * ndim], np.transpose(np.nonzero(skel))), axis=0) # triggers Dask computation\n",
    "skel_obj.coordinates = pixel_indices"
   ]
  },
  {
   "cell_type": "markdown",
   "id": "chemical-marble",
   "metadata": {},
   "source": [
    "And last we can use some of skan's methods and functions directly to calculate the skeleton paths and branch distances."
   ]
  },
  {
   "cell_type": "code",
   "execution_count": 23,
   "id": "indian-galaxy",
   "metadata": {},
   "outputs": [],
   "source": [
    "from skan.csr import _build_skeleton_path_graph\n",
    "\n",
    "paths = _build_skeleton_path_graph(nbgraph, _buffer_size_offset=None)\n",
    "skel_obj.paths = paths\n",
    "skel_obj.n_paths = paths.shape[0]"
   ]
  },
  {
   "cell_type": "code",
   "execution_count": 24,
   "id": "sought-introduction",
   "metadata": {},
   "outputs": [],
   "source": [
    "# MUST reset both distances_intialized AND the empty numpy array to calculate the branch length\n",
    "skel_obj._distances_initialized = False\n",
    "skel_obj.distances = np.empty(skel_obj.n_paths, dtype=float)\n",
    "skel_obj.path_lengths();"
   ]
  },
  {
   "cell_type": "markdown",
   "id": "lasting-solution",
   "metadata": {},
   "source": [
    "### Summary statistics from Dask array data\n",
    "\n",
    "Now that we finally have all the Skeleton class attributes updated, we are ready to calculate branch statistics."
   ]
  },
  {
   "cell_type": "code",
   "execution_count": 25,
   "id": "provincial-pittsburgh",
   "metadata": {},
   "outputs": [
    {
     "data": {
      "text/html": [
       "<div>\n",
       "<style scoped>\n",
       "    .dataframe tbody tr th:only-of-type {\n",
       "        vertical-align: middle;\n",
       "    }\n",
       "\n",
       "    .dataframe tbody tr th {\n",
       "        vertical-align: top;\n",
       "    }\n",
       "\n",
       "    .dataframe thead th {\n",
       "        text-align: right;\n",
       "    }\n",
       "</style>\n",
       "<table border=\"1\" class=\"dataframe\">\n",
       "  <thead>\n",
       "    <tr style=\"text-align: right;\">\n",
       "      <th></th>\n",
       "      <th>skeleton-id</th>\n",
       "      <th>node-id-src</th>\n",
       "      <th>node-id-dst</th>\n",
       "      <th>branch-distance</th>\n",
       "      <th>branch-type</th>\n",
       "      <th>mean-pixel-value</th>\n",
       "      <th>stdev-pixel-value</th>\n",
       "      <th>image-coord-src-0</th>\n",
       "      <th>image-coord-src-1</th>\n",
       "      <th>image-coord-dst-0</th>\n",
       "      <th>image-coord-dst-1</th>\n",
       "      <th>coord-src-0</th>\n",
       "      <th>coord-src-1</th>\n",
       "      <th>coord-dst-0</th>\n",
       "      <th>coord-dst-1</th>\n",
       "      <th>euclidean-distance</th>\n",
       "    </tr>\n",
       "  </thead>\n",
       "  <tbody>\n",
       "    <tr>\n",
       "      <th>0</th>\n",
       "      <td>1</td>\n",
       "      <td>1</td>\n",
       "      <td>3</td>\n",
       "      <td>2.000000</td>\n",
       "      <td>1</td>\n",
       "      <td>1.0</td>\n",
       "      <td>0.0</td>\n",
       "      <td>0.0</td>\n",
       "      <td>3.0</td>\n",
       "      <td>1.0</td>\n",
       "      <td>3.0</td>\n",
       "      <td>0.0</td>\n",
       "      <td>3.0</td>\n",
       "      <td>1.0</td>\n",
       "      <td>3.0</td>\n",
       "      <td>1.000000</td>\n",
       "    </tr>\n",
       "    <tr>\n",
       "      <th>1</th>\n",
       "      <td>1</td>\n",
       "      <td>3</td>\n",
       "      <td>6</td>\n",
       "      <td>1.414214</td>\n",
       "      <td>2</td>\n",
       "      <td>1.0</td>\n",
       "      <td>0.0</td>\n",
       "      <td>1.0</td>\n",
       "      <td>3.0</td>\n",
       "      <td>2.0</td>\n",
       "      <td>10.0</td>\n",
       "      <td>1.0</td>\n",
       "      <td>3.0</td>\n",
       "      <td>2.0</td>\n",
       "      <td>10.0</td>\n",
       "      <td>7.071068</td>\n",
       "    </tr>\n",
       "    <tr>\n",
       "      <th>2</th>\n",
       "      <td>1</td>\n",
       "      <td>3</td>\n",
       "      <td>7</td>\n",
       "      <td>1.000000</td>\n",
       "      <td>1</td>\n",
       "      <td>1.0</td>\n",
       "      <td>0.0</td>\n",
       "      <td>1.0</td>\n",
       "      <td>3.0</td>\n",
       "      <td>3.0</td>\n",
       "      <td>0.0</td>\n",
       "      <td>1.0</td>\n",
       "      <td>3.0</td>\n",
       "      <td>3.0</td>\n",
       "      <td>0.0</td>\n",
       "      <td>3.605551</td>\n",
       "    </tr>\n",
       "    <tr>\n",
       "      <th>3</th>\n",
       "      <td>1</td>\n",
       "      <td>3</td>\n",
       "      <td>8</td>\n",
       "      <td>1.414214</td>\n",
       "      <td>2</td>\n",
       "      <td>1.0</td>\n",
       "      <td>0.0</td>\n",
       "      <td>1.0</td>\n",
       "      <td>3.0</td>\n",
       "      <td>3.0</td>\n",
       "      <td>1.0</td>\n",
       "      <td>1.0</td>\n",
       "      <td>3.0</td>\n",
       "      <td>3.0</td>\n",
       "      <td>1.0</td>\n",
       "      <td>2.828427</td>\n",
       "    </tr>\n",
       "    <tr>\n",
       "      <th>4</th>\n",
       "      <td>1</td>\n",
       "      <td>4</td>\n",
       "      <td>6</td>\n",
       "      <td>2.000000</td>\n",
       "      <td>2</td>\n",
       "      <td>1.0</td>\n",
       "      <td>0.0</td>\n",
       "      <td>1.0</td>\n",
       "      <td>10.0</td>\n",
       "      <td>2.0</td>\n",
       "      <td>10.0</td>\n",
       "      <td>1.0</td>\n",
       "      <td>10.0</td>\n",
       "      <td>2.0</td>\n",
       "      <td>10.0</td>\n",
       "      <td>1.000000</td>\n",
       "    </tr>\n",
       "    <tr>\n",
       "      <th>5</th>\n",
       "      <td>1</td>\n",
       "      <td>8</td>\n",
       "      <td>16</td>\n",
       "      <td>5.000000</td>\n",
       "      <td>2</td>\n",
       "      <td>1.0</td>\n",
       "      <td>0.0</td>\n",
       "      <td>3.0</td>\n",
       "      <td>1.0</td>\n",
       "      <td>3.0</td>\n",
       "      <td>9.0</td>\n",
       "      <td>3.0</td>\n",
       "      <td>1.0</td>\n",
       "      <td>3.0</td>\n",
       "      <td>9.0</td>\n",
       "      <td>8.000000</td>\n",
       "    </tr>\n",
       "    <tr>\n",
       "      <th>6</th>\n",
       "      <td>1</td>\n",
       "      <td>11</td>\n",
       "      <td>13</td>\n",
       "      <td>2.000000</td>\n",
       "      <td>2</td>\n",
       "      <td>1.0</td>\n",
       "      <td>0.0</td>\n",
       "      <td>3.0</td>\n",
       "      <td>4.0</td>\n",
       "      <td>3.0</td>\n",
       "      <td>6.0</td>\n",
       "      <td>3.0</td>\n",
       "      <td>4.0</td>\n",
       "      <td>3.0</td>\n",
       "      <td>6.0</td>\n",
       "      <td>2.000000</td>\n",
       "    </tr>\n",
       "    <tr>\n",
       "      <th>7</th>\n",
       "      <td>1</td>\n",
       "      <td>13</td>\n",
       "      <td>17</td>\n",
       "      <td>1.000000</td>\n",
       "      <td>2</td>\n",
       "      <td>1.0</td>\n",
       "      <td>0.0</td>\n",
       "      <td>3.0</td>\n",
       "      <td>6.0</td>\n",
       "      <td>3.0</td>\n",
       "      <td>10.0</td>\n",
       "      <td>3.0</td>\n",
       "      <td>6.0</td>\n",
       "      <td>3.0</td>\n",
       "      <td>10.0</td>\n",
       "      <td>4.000000</td>\n",
       "    </tr>\n",
       "    <tr>\n",
       "      <th>8</th>\n",
       "      <td>1</td>\n",
       "      <td>13</td>\n",
       "      <td>18</td>\n",
       "      <td>1.414214</td>\n",
       "      <td>2</td>\n",
       "      <td>1.0</td>\n",
       "      <td>0.0</td>\n",
       "      <td>3.0</td>\n",
       "      <td>6.0</td>\n",
       "      <td>3.0</td>\n",
       "      <td>11.0</td>\n",
       "      <td>3.0</td>\n",
       "      <td>6.0</td>\n",
       "      <td>3.0</td>\n",
       "      <td>11.0</td>\n",
       "      <td>5.000000</td>\n",
       "    </tr>\n",
       "    <tr>\n",
       "      <th>9</th>\n",
       "      <td>1</td>\n",
       "      <td>18</td>\n",
       "      <td>20</td>\n",
       "      <td>2.000000</td>\n",
       "      <td>1</td>\n",
       "      <td>1.0</td>\n",
       "      <td>0.0</td>\n",
       "      <td>3.0</td>\n",
       "      <td>11.0</td>\n",
       "      <td>3.0</td>\n",
       "      <td>13.0</td>\n",
       "      <td>3.0</td>\n",
       "      <td>11.0</td>\n",
       "      <td>3.0</td>\n",
       "      <td>13.0</td>\n",
       "      <td>2.000000</td>\n",
       "    </tr>\n",
       "  </tbody>\n",
       "</table>\n",
       "</div>"
      ],
      "text/plain": [
       "   skeleton-id  node-id-src  node-id-dst  branch-distance  branch-type  \\\n",
       "0            1            1            3         2.000000            1   \n",
       "1            1            3            6         1.414214            2   \n",
       "2            1            3            7         1.000000            1   \n",
       "3            1            3            8         1.414214            2   \n",
       "4            1            4            6         2.000000            2   \n",
       "5            1            8           16         5.000000            2   \n",
       "6            1           11           13         2.000000            2   \n",
       "7            1           13           17         1.000000            2   \n",
       "8            1           13           18         1.414214            2   \n",
       "9            1           18           20         2.000000            1   \n",
       "\n",
       "   mean-pixel-value  stdev-pixel-value  image-coord-src-0  image-coord-src-1  \\\n",
       "0               1.0                0.0                0.0                3.0   \n",
       "1               1.0                0.0                1.0                3.0   \n",
       "2               1.0                0.0                1.0                3.0   \n",
       "3               1.0                0.0                1.0                3.0   \n",
       "4               1.0                0.0                1.0               10.0   \n",
       "5               1.0                0.0                3.0                1.0   \n",
       "6               1.0                0.0                3.0                4.0   \n",
       "7               1.0                0.0                3.0                6.0   \n",
       "8               1.0                0.0                3.0                6.0   \n",
       "9               1.0                0.0                3.0               11.0   \n",
       "\n",
       "   image-coord-dst-0  image-coord-dst-1  coord-src-0  coord-src-1  \\\n",
       "0                1.0                3.0          0.0          3.0   \n",
       "1                2.0               10.0          1.0          3.0   \n",
       "2                3.0                0.0          1.0          3.0   \n",
       "3                3.0                1.0          1.0          3.0   \n",
       "4                2.0               10.0          1.0         10.0   \n",
       "5                3.0                9.0          3.0          1.0   \n",
       "6                3.0                6.0          3.0          4.0   \n",
       "7                3.0               10.0          3.0          6.0   \n",
       "8                3.0               11.0          3.0          6.0   \n",
       "9                3.0               13.0          3.0         11.0   \n",
       "\n",
       "   coord-dst-0  coord-dst-1  euclidean-distance  \n",
       "0          1.0          3.0            1.000000  \n",
       "1          2.0         10.0            7.071068  \n",
       "2          3.0          0.0            3.605551  \n",
       "3          3.0          1.0            2.828427  \n",
       "4          2.0         10.0            1.000000  \n",
       "5          3.0          9.0            8.000000  \n",
       "6          3.0          6.0            2.000000  \n",
       "7          3.0         10.0            4.000000  \n",
       "8          3.0         11.0            5.000000  \n",
       "9          3.0         13.0            2.000000  "
      ]
     },
     "execution_count": 25,
     "metadata": {},
     "output_type": "execute_result"
    }
   ],
   "source": [
    "from skan import summarize\n",
    "\n",
    "statistics = summarize(skel_obj)\n",
    "statistics"
   ]
  },
  {
   "cell_type": "code",
   "execution_count": 26,
   "id": "hollywood-universe",
   "metadata": {},
   "outputs": [
    {
     "data": {
      "text/html": [
       "<div>\n",
       "<style scoped>\n",
       "    .dataframe tbody tr th:only-of-type {\n",
       "        vertical-align: middle;\n",
       "    }\n",
       "\n",
       "    .dataframe tbody tr th {\n",
       "        vertical-align: top;\n",
       "    }\n",
       "\n",
       "    .dataframe thead th {\n",
       "        text-align: right;\n",
       "    }\n",
       "</style>\n",
       "<table border=\"1\" class=\"dataframe\">\n",
       "  <thead>\n",
       "    <tr style=\"text-align: right;\">\n",
       "      <th></th>\n",
       "      <th>skeleton-id</th>\n",
       "      <th>node-id-src</th>\n",
       "      <th>node-id-dst</th>\n",
       "      <th>branch-distance</th>\n",
       "      <th>branch-type</th>\n",
       "      <th>mean-pixel-value</th>\n",
       "      <th>stdev-pixel-value</th>\n",
       "      <th>image-coord-src-0</th>\n",
       "      <th>image-coord-src-1</th>\n",
       "      <th>image-coord-dst-0</th>\n",
       "      <th>image-coord-dst-1</th>\n",
       "      <th>coord-src-0</th>\n",
       "      <th>coord-src-1</th>\n",
       "      <th>coord-dst-0</th>\n",
       "      <th>coord-dst-1</th>\n",
       "      <th>euclidean-distance</th>\n",
       "    </tr>\n",
       "  </thead>\n",
       "  <tbody>\n",
       "    <tr>\n",
       "      <th>count</th>\n",
       "      <td>10.0</td>\n",
       "      <td>10.000000</td>\n",
       "      <td>10.00000</td>\n",
       "      <td>10.000000</td>\n",
       "      <td>10.000000</td>\n",
       "      <td>10.0</td>\n",
       "      <td>10.0</td>\n",
       "      <td>10.000000</td>\n",
       "      <td>10.000000</td>\n",
       "      <td>10.000000</td>\n",
       "      <td>10.000000</td>\n",
       "      <td>10.000000</td>\n",
       "      <td>10.000000</td>\n",
       "      <td>10.000000</td>\n",
       "      <td>10.000000</td>\n",
       "      <td>10.000000</td>\n",
       "    </tr>\n",
       "    <tr>\n",
       "      <th>mean</th>\n",
       "      <td>1.0</td>\n",
       "      <td>7.700000</td>\n",
       "      <td>11.40000</td>\n",
       "      <td>1.924264</td>\n",
       "      <td>1.700000</td>\n",
       "      <td>1.0</td>\n",
       "      <td>0.0</td>\n",
       "      <td>1.900000</td>\n",
       "      <td>5.000000</td>\n",
       "      <td>2.600000</td>\n",
       "      <td>7.300000</td>\n",
       "      <td>1.900000</td>\n",
       "      <td>5.000000</td>\n",
       "      <td>2.600000</td>\n",
       "      <td>7.300000</td>\n",
       "      <td>3.650505</td>\n",
       "    </tr>\n",
       "    <tr>\n",
       "      <th>std</th>\n",
       "      <td>0.0</td>\n",
       "      <td>5.755191</td>\n",
       "      <td>6.07728</td>\n",
       "      <td>1.153356</td>\n",
       "      <td>0.483046</td>\n",
       "      <td>0.0</td>\n",
       "      <td>0.0</td>\n",
       "      <td>1.197219</td>\n",
       "      <td>3.265986</td>\n",
       "      <td>0.699206</td>\n",
       "      <td>4.522782</td>\n",
       "      <td>1.197219</td>\n",
       "      <td>3.265986</td>\n",
       "      <td>0.699206</td>\n",
       "      <td>4.522782</td>\n",
       "      <td>2.420701</td>\n",
       "    </tr>\n",
       "    <tr>\n",
       "      <th>min</th>\n",
       "      <td>1.0</td>\n",
       "      <td>1.000000</td>\n",
       "      <td>3.00000</td>\n",
       "      <td>1.000000</td>\n",
       "      <td>1.000000</td>\n",
       "      <td>1.0</td>\n",
       "      <td>0.0</td>\n",
       "      <td>0.000000</td>\n",
       "      <td>1.000000</td>\n",
       "      <td>1.000000</td>\n",
       "      <td>0.000000</td>\n",
       "      <td>0.000000</td>\n",
       "      <td>1.000000</td>\n",
       "      <td>1.000000</td>\n",
       "      <td>0.000000</td>\n",
       "      <td>1.000000</td>\n",
       "    </tr>\n",
       "    <tr>\n",
       "      <th>25%</th>\n",
       "      <td>1.0</td>\n",
       "      <td>3.000000</td>\n",
       "      <td>6.25000</td>\n",
       "      <td>1.414214</td>\n",
       "      <td>1.250000</td>\n",
       "      <td>1.0</td>\n",
       "      <td>0.0</td>\n",
       "      <td>1.000000</td>\n",
       "      <td>3.000000</td>\n",
       "      <td>2.250000</td>\n",
       "      <td>3.750000</td>\n",
       "      <td>1.000000</td>\n",
       "      <td>3.000000</td>\n",
       "      <td>2.250000</td>\n",
       "      <td>3.750000</td>\n",
       "      <td>2.000000</td>\n",
       "    </tr>\n",
       "    <tr>\n",
       "      <th>50%</th>\n",
       "      <td>1.0</td>\n",
       "      <td>6.000000</td>\n",
       "      <td>10.50000</td>\n",
       "      <td>1.707107</td>\n",
       "      <td>2.000000</td>\n",
       "      <td>1.0</td>\n",
       "      <td>0.0</td>\n",
       "      <td>2.000000</td>\n",
       "      <td>3.500000</td>\n",
       "      <td>3.000000</td>\n",
       "      <td>9.500000</td>\n",
       "      <td>2.000000</td>\n",
       "      <td>3.500000</td>\n",
       "      <td>3.000000</td>\n",
       "      <td>9.500000</td>\n",
       "      <td>3.216989</td>\n",
       "    </tr>\n",
       "    <tr>\n",
       "      <th>75%</th>\n",
       "      <td>1.0</td>\n",
       "      <td>12.500000</td>\n",
       "      <td>16.75000</td>\n",
       "      <td>2.000000</td>\n",
       "      <td>2.000000</td>\n",
       "      <td>1.0</td>\n",
       "      <td>0.0</td>\n",
       "      <td>3.000000</td>\n",
       "      <td>6.000000</td>\n",
       "      <td>3.000000</td>\n",
       "      <td>10.000000</td>\n",
       "      <td>3.000000</td>\n",
       "      <td>6.000000</td>\n",
       "      <td>3.000000</td>\n",
       "      <td>10.000000</td>\n",
       "      <td>4.750000</td>\n",
       "    </tr>\n",
       "    <tr>\n",
       "      <th>max</th>\n",
       "      <td>1.0</td>\n",
       "      <td>18.000000</td>\n",
       "      <td>20.00000</td>\n",
       "      <td>5.000000</td>\n",
       "      <td>2.000000</td>\n",
       "      <td>1.0</td>\n",
       "      <td>0.0</td>\n",
       "      <td>3.000000</td>\n",
       "      <td>11.000000</td>\n",
       "      <td>3.000000</td>\n",
       "      <td>13.000000</td>\n",
       "      <td>3.000000</td>\n",
       "      <td>11.000000</td>\n",
       "      <td>3.000000</td>\n",
       "      <td>13.000000</td>\n",
       "      <td>8.000000</td>\n",
       "    </tr>\n",
       "  </tbody>\n",
       "</table>\n",
       "</div>"
      ],
      "text/plain": [
       "       skeleton-id  node-id-src  node-id-dst  branch-distance  branch-type  \\\n",
       "count         10.0    10.000000     10.00000        10.000000    10.000000   \n",
       "mean           1.0     7.700000     11.40000         1.924264     1.700000   \n",
       "std            0.0     5.755191      6.07728         1.153356     0.483046   \n",
       "min            1.0     1.000000      3.00000         1.000000     1.000000   \n",
       "25%            1.0     3.000000      6.25000         1.414214     1.250000   \n",
       "50%            1.0     6.000000     10.50000         1.707107     2.000000   \n",
       "75%            1.0    12.500000     16.75000         2.000000     2.000000   \n",
       "max            1.0    18.000000     20.00000         5.000000     2.000000   \n",
       "\n",
       "       mean-pixel-value  stdev-pixel-value  image-coord-src-0  \\\n",
       "count              10.0               10.0          10.000000   \n",
       "mean                1.0                0.0           1.900000   \n",
       "std                 0.0                0.0           1.197219   \n",
       "min                 1.0                0.0           0.000000   \n",
       "25%                 1.0                0.0           1.000000   \n",
       "50%                 1.0                0.0           2.000000   \n",
       "75%                 1.0                0.0           3.000000   \n",
       "max                 1.0                0.0           3.000000   \n",
       "\n",
       "       image-coord-src-1  image-coord-dst-0  image-coord-dst-1  coord-src-0  \\\n",
       "count          10.000000          10.000000          10.000000    10.000000   \n",
       "mean            5.000000           2.600000           7.300000     1.900000   \n",
       "std             3.265986           0.699206           4.522782     1.197219   \n",
       "min             1.000000           1.000000           0.000000     0.000000   \n",
       "25%             3.000000           2.250000           3.750000     1.000000   \n",
       "50%             3.500000           3.000000           9.500000     2.000000   \n",
       "75%             6.000000           3.000000          10.000000     3.000000   \n",
       "max            11.000000           3.000000          13.000000     3.000000   \n",
       "\n",
       "       coord-src-1  coord-dst-0  coord-dst-1  euclidean-distance  \n",
       "count    10.000000    10.000000    10.000000           10.000000  \n",
       "mean      5.000000     2.600000     7.300000            3.650505  \n",
       "std       3.265986     0.699206     4.522782            2.420701  \n",
       "min       1.000000     1.000000     0.000000            1.000000  \n",
       "25%       3.000000     2.250000     3.750000            2.000000  \n",
       "50%       3.500000     3.000000     9.500000            3.216989  \n",
       "75%       6.000000     3.000000    10.000000            4.750000  \n",
       "max      11.000000     3.000000    13.000000            8.000000  "
      ]
     },
     "execution_count": 26,
     "metadata": {},
     "output_type": "execute_result"
    }
   ],
   "source": [
    "statistics.describe()"
   ]
  },
  {
   "cell_type": "markdown",
   "id": "appropriate-dietary",
   "metadata": {},
   "source": [
    "### Visualization"
   ]
  },
  {
   "cell_type": "code",
   "execution_count": 27,
   "id": "swedish-costs",
   "metadata": {},
   "outputs": [],
   "source": [
    "import seaborn as sns"
   ]
  },
  {
   "cell_type": "code",
   "execution_count": 28,
   "id": "hindu-arabic",
   "metadata": {},
   "outputs": [
    {
     "data": {
      "image/png": "[encoded data removed]",
      "text/plain": [
       "<Figure size 432x288 with 1 Axes>"
      ]
     },
     "metadata": {},
     "output_type": "display_data"
    }
   ],
   "source": [
    "sns.set_theme(style=\"whitegrid\")\n",
    "ax = sns.violinplot(x=statistics[\"branch-distance\"])"
   ]
  },
  {
   "cell_type": "code",
   "execution_count": 29,
   "id": "working-median",
   "metadata": {},
   "outputs": [
    {
     "data": {
      "image/png": "[encoded data removed]",
      "text/plain": [
       "<Figure size 432x288 with 1 Axes>"
      ]
     },
     "metadata": {},
     "output_type": "display_data"
    }
   ],
   "source": [
    "sns.set_theme(style=\"whitegrid\")\n",
    "ax = sns.violinplot(x=statistics[\"euclidean-distance\"])"
   ]
  },
  {
   "cell_type": "markdown",
   "id": "distinguished-sheet",
   "metadata": {},
   "source": [
    "## Distributed skeleton analysis of the blood vessels within a lung\n",
    "\n",
    "For this example, we will look at the blood vessels inside of a lung. This data was shared with us by [Marcus Kitchen](https://research.monash.edu/en/persons/marcus-kitchen), [Andrew Stainsby](https://hudson.org.au/researcher-profile/andrew-stainsby/), and their team of collaborators. This research group focusses on lung development.\n",
    "\n",
    "### Read in the data"
   ]
  },
  {
   "cell_type": "code",
   "execution_count": 30,
   "id": "uniform-selling",
   "metadata": {},
   "outputs": [],
   "source": [
    "filename = \"data/1740_p4_left.tif\"  # CT scan of a healthy lung"
   ]
  },
  {
   "cell_type": "code",
   "execution_count": 31,
   "id": "intended-lindsay",
   "metadata": {},
   "outputs": [
    {
     "data": {
      "text/html": [
       "<table>\n",
       "<tr>\n",
       "<td>\n",
       "<table>\n",
       "  <thead>\n",
       "    <tr><td> </td><th> Array </th><th> Chunk </th></tr>\n",
       "  </thead>\n",
       "  <tbody>\n",
       "    <tr><th> Bytes </th><td> 3.06 GB </td> <td> 2.50 MB </td></tr>\n",
       "    <tr><th> Shape </th><td> (1224, 890, 702) </td> <td> (1, 890, 702) </td></tr>\n",
       "    <tr><th> Count </th><td> 2448 Tasks </td><td> 1224 Chunks </td></tr>\n",
       "    <tr><th> Type </th><td> float32 </td><td> numpy.ndarray </td></tr>\n",
       "  </tbody>\n",
       "</table>\n",
       "</td>\n",
       "<td>\n",
       "<svg width=\"199\" height=\"207\" style=\"stroke:rgb(0,0,0);stroke-width:1\" >\n",
       "\n",
       "  <!-- Horizontal lines -->\n",
       "  <line x1=\"10\" y1=\"0\" x2=\"80\" y2=\"70\" style=\"stroke-width:2\" />\n",
       "  <line x1=\"10\" y1=\"87\" x2=\"80\" y2=\"157\" style=\"stroke-width:2\" />\n",
       "\n",
       "  <!-- Vertical lines -->\n",
       "  <line x1=\"10\" y1=\"0\" x2=\"10\" y2=\"87\" style=\"stroke-width:2\" />\n",
       "  <line x1=\"13\" y1=\"3\" x2=\"13\" y2=\"90\" />\n",
       "  <line x1=\"17\" y1=\"7\" x2=\"17\" y2=\"94\" />\n",
       "  <line x1=\"21\" y1=\"11\" x2=\"21\" y2=\"98\" />\n",
       "  <line x1=\"24\" y1=\"14\" x2=\"24\" y2=\"102\" />\n",
       "  <line x1=\"28\" y1=\"18\" x2=\"28\" y2=\"105\" />\n",
       "  <line x1=\"32\" y1=\"22\" x2=\"32\" y2=\"109\" />\n",
       "  <line x1=\"35\" y1=\"25\" x2=\"35\" y2=\"113\" />\n",
       "  <line x1=\"39\" y1=\"29\" x2=\"39\" y2=\"116\" />\n",
       "  <line x1=\"43\" y1=\"33\" x2=\"43\" y2=\"120\" />\n",
       "  <line x1=\"47\" y1=\"37\" x2=\"47\" y2=\"124\" />\n",
       "  <line x1=\"50\" y1=\"40\" x2=\"50\" y2=\"128\" />\n",
       "  <line x1=\"54\" y1=\"44\" x2=\"54\" y2=\"131\" />\n",
       "  <line x1=\"58\" y1=\"48\" x2=\"58\" y2=\"135\" />\n",
       "  <line x1=\"61\" y1=\"51\" x2=\"61\" y2=\"139\" />\n",
       "  <line x1=\"65\" y1=\"55\" x2=\"65\" y2=\"142\" />\n",
       "  <line x1=\"69\" y1=\"59\" x2=\"69\" y2=\"146\" />\n",
       "  <line x1=\"73\" y1=\"63\" x2=\"73\" y2=\"150\" />\n",
       "  <line x1=\"76\" y1=\"66\" x2=\"76\" y2=\"154\" />\n",
       "  <line x1=\"80\" y1=\"70\" x2=\"80\" y2=\"157\" style=\"stroke-width:2\" />\n",
       "\n",
       "  <!-- Colored Rectangle -->\n",
       "  <polygon points=\"10.0,0.0 80.58823529411765,70.58823529411765 80.58823529411765,157.843137254902 10.0,87.25490196078432\" style=\"fill:#8B4903A0;stroke-width:0\"/>\n",
       "\n",
       "  <!-- Horizontal lines -->\n",
       "  <line x1=\"10\" y1=\"0\" x2=\"78\" y2=\"0\" style=\"stroke-width:2\" />\n",
       "  <line x1=\"13\" y1=\"3\" x2=\"82\" y2=\"3\" />\n",
       "  <line x1=\"17\" y1=\"7\" x2=\"86\" y2=\"7\" />\n",
       "  <line x1=\"21\" y1=\"11\" x2=\"89\" y2=\"11\" />\n",
       "  <line x1=\"24\" y1=\"14\" x2=\"93\" y2=\"14\" />\n",
       "  <line x1=\"28\" y1=\"18\" x2=\"97\" y2=\"18\" />\n",
       "  <line x1=\"32\" y1=\"22\" x2=\"101\" y2=\"22\" />\n",
       "  <line x1=\"35\" y1=\"25\" x2=\"104\" y2=\"25\" />\n",
       "  <line x1=\"39\" y1=\"29\" x2=\"108\" y2=\"29\" />\n",
       "  <line x1=\"43\" y1=\"33\" x2=\"112\" y2=\"33\" />\n",
       "  <line x1=\"47\" y1=\"37\" x2=\"115\" y2=\"37\" />\n",
       "  <line x1=\"50\" y1=\"40\" x2=\"119\" y2=\"40\" />\n",
       "  <line x1=\"54\" y1=\"44\" x2=\"123\" y2=\"44\" />\n",
       "  <line x1=\"58\" y1=\"48\" x2=\"127\" y2=\"48\" />\n",
       "  <line x1=\"61\" y1=\"51\" x2=\"130\" y2=\"51\" />\n",
       "  <line x1=\"65\" y1=\"55\" x2=\"134\" y2=\"55\" />\n",
       "  <line x1=\"69\" y1=\"59\" x2=\"138\" y2=\"59\" />\n",
       "  <line x1=\"73\" y1=\"63\" x2=\"141\" y2=\"63\" />\n",
       "  <line x1=\"76\" y1=\"66\" x2=\"145\" y2=\"66\" />\n",
       "  <line x1=\"80\" y1=\"70\" x2=\"149\" y2=\"70\" style=\"stroke-width:2\" />\n",
       "\n",
       "  <!-- Vertical lines -->\n",
       "  <line x1=\"10\" y1=\"0\" x2=\"80\" y2=\"70\" style=\"stroke-width:2\" />\n",
       "  <line x1=\"78\" y1=\"0\" x2=\"149\" y2=\"70\" style=\"stroke-width:2\" />\n",
       "\n",
       "  <!-- Colored Rectangle -->\n",
       "  <polygon points=\"10.0,0.0 78.82352941176471,0.0 149.41176470588238,70.58823529411765 80.58823529411765,70.58823529411765\" style=\"fill:#8B4903A0;stroke-width:0\"/>\n",
       "\n",
       "  <!-- Horizontal lines -->\n",
       "  <line x1=\"80\" y1=\"70\" x2=\"149\" y2=\"70\" style=\"stroke-width:2\" />\n",
       "  <line x1=\"80\" y1=\"157\" x2=\"149\" y2=\"157\" style=\"stroke-width:2\" />\n",
       "\n",
       "  <!-- Vertical lines -->\n",
       "  <line x1=\"80\" y1=\"70\" x2=\"80\" y2=\"157\" style=\"stroke-width:2\" />\n",
       "  <line x1=\"149\" y1=\"70\" x2=\"149\" y2=\"157\" style=\"stroke-width:2\" />\n",
       "\n",
       "  <!-- Colored Rectangle -->\n",
       "  <polygon points=\"80.58823529411765,70.58823529411765 149.41176470588238,70.58823529411765 149.41176470588238,157.843137254902 80.58823529411765,157.843137254902\" style=\"fill:#ECB172A0;stroke-width:0\"/>\n",
       "\n",
       "  <!-- Text -->\n",
       "  <text x=\"115.000000\" y=\"177.843137\" font-size=\"1.0rem\" font-weight=\"100\" text-anchor=\"middle\" >702</text>\n",
       "  <text x=\"169.411765\" y=\"114.215686\" font-size=\"1.0rem\" font-weight=\"100\" text-anchor=\"middle\" transform=\"rotate(-90,169.411765,114.215686)\">890</text>\n",
       "  <text x=\"35.294118\" y=\"142.549020\" font-size=\"1.0rem\" font-weight=\"100\" text-anchor=\"middle\" transform=\"rotate(45,35.294118,142.549020)\">1224</text>\n",
       "</svg>\n",
       "</td>\n",
       "</tr>\n",
       "</table>"
      ],
      "text/plain": [
       "dask.array<_map_read_frame, shape=(1224, 890, 702), dtype=float32, chunksize=(1, 890, 702), chunktype=numpy.ndarray>"
      ]
     },
     "execution_count": 31,
     "metadata": {},
     "output_type": "execute_result"
    }
   ],
   "source": [
    "import dask.array as da\n",
    "from dask_image.imread import imread\n",
    "\n",
    "original_image = imread(filename)\n",
    "original_image"
   ]
  },
  {
   "cell_type": "code",
   "execution_count": 32,
   "id": "tight-morocco",
   "metadata": {},
   "outputs": [
    {
     "name": "stdout",
     "output_type": "stream",
     "text": [
      "(1224, 890, 702)\n"
     ]
    }
   ],
   "source": [
    "print(original_image.shape)"
   ]
  },
  {
   "cell_type": "markdown",
   "id": "pacific-anderson",
   "metadata": {},
   "source": [
    "### Smooth images\n",
    "\n",
    "There is some shot noise in the pixels of the raw data. We can blur the images very slightly to improve the quality of the segmentation of the blood vessels."
   ]
  },
  {
   "cell_type": "code",
   "execution_count": 33,
   "id": "racial-funeral",
   "metadata": {},
   "outputs": [],
   "source": [
    "from dask_image.ndfilters import gaussian_filter\n",
    "\n",
    "sigma_value = 2.0\n",
    "smoothed = gaussian_filter(original_image, sigma=sigma_value)"
   ]
  },
  {
   "cell_type": "markdown",
   "id": "million-notification",
   "metadata": {},
   "source": [
    "### Segment the blood vessels\n",
    "\n"
   ]
  },
  {
   "cell_type": "code",
   "execution_count": 34,
   "id": "international-pharmaceutical",
   "metadata": {},
   "outputs": [],
   "source": [
    "threshold_value = 0.45\n",
    "binary_image = smoothed > threshold_value"
   ]
  },
  {
   "cell_type": "markdown",
   "id": "painted-theater",
   "metadata": {},
   "source": [
    "Here's a screenshot of the segmented blood vessels, before thinning the skeleton.\n",
    "\n",
    "![Skeleton network of blood vessels within a healthy lung](skeleton-screenshot-crop.jpg)"
   ]
  },
  {
   "cell_type": "markdown",
   "id": "charged-smooth",
   "metadata": {},
   "source": [
    "### Rechunk to a more sensible shape\n",
    "\n",
    "Now we need to [rechunk](https://docs.dask.org/en/latest/array-chunks.html?highlight=rechunk#rechunking) the Dask array. We change the chunk shapes from 2D slices to small cuboid volumes, so the skeletonization step is efficient. We can choose the overall size of the chunks so that we can stay under the memory threshold needed for skeletonize."
   ]
  },
  {
   "cell_type": "code",
   "execution_count": 35,
   "id": "mounted-ecology",
   "metadata": {},
   "outputs": [
    {
     "name": "stdout",
     "output_type": "stream",
     "text": [
      "[306 222 175]\n"
     ]
    }
   ],
   "source": [
    "factor = np.array([4,4,4])  # even numbers\n",
    "desired_chunksize = np.array(binary_image.shape)//factor\n",
    "\n",
    "print(desired_chunksize)"
   ]
  },
  {
   "cell_type": "code",
   "execution_count": 36,
   "id": "informational-emergency",
   "metadata": {},
   "outputs": [],
   "source": [
    "rechunked_binary_image = binary_image.rechunk(desired_chunksize)"
   ]
  },
  {
   "cell_type": "code",
   "execution_count": 37,
   "id": "careful-universe",
   "metadata": {},
   "outputs": [
    {
     "data": {
      "text/html": [
       "<table>\n",
       "<tr>\n",
       "<td>\n",
       "<table>\n",
       "  <thead>\n",
       "    <tr><td> </td><th> Array </th><th> Chunk </th></tr>\n",
       "  </thead>\n",
       "  <tbody>\n",
       "    <tr><th> Bytes </th><td> 764.73 MB </td> <td> 11.89 MB </td></tr>\n",
       "    <tr><th> Shape </th><td> (1224, 890, 702) </td> <td> (306, 222, 175) </td></tr>\n",
       "    <tr><th> Count </th><td> 4145 Tasks </td><td> 100 Chunks </td></tr>\n",
       "    <tr><th> Type </th><td> bool </td><td> numpy.ndarray </td></tr>\n",
       "  </tbody>\n",
       "</table>\n",
       "</td>\n",
       "<td>\n",
       "<svg width=\"199\" height=\"207\" style=\"stroke:rgb(0,0,0);stroke-width:1\" >\n",
       "\n",
       "  <!-- Horizontal lines -->\n",
       "  <line x1=\"10\" y1=\"0\" x2=\"80\" y2=\"70\" style=\"stroke-width:2\" />\n",
       "  <line x1=\"10\" y1=\"21\" x2=\"80\" y2=\"92\" />\n",
       "  <line x1=\"10\" y1=\"43\" x2=\"80\" y2=\"114\" />\n",
       "  <line x1=\"10\" y1=\"65\" x2=\"80\" y2=\"135\" />\n",
       "  <line x1=\"10\" y1=\"87\" x2=\"80\" y2=\"157\" />\n",
       "  <line x1=\"10\" y1=\"87\" x2=\"80\" y2=\"157\" style=\"stroke-width:2\" />\n",
       "\n",
       "  <!-- Vertical lines -->\n",
       "  <line x1=\"10\" y1=\"0\" x2=\"10\" y2=\"87\" style=\"stroke-width:2\" />\n",
       "  <line x1=\"27\" y1=\"17\" x2=\"27\" y2=\"104\" />\n",
       "  <line x1=\"45\" y1=\"35\" x2=\"45\" y2=\"122\" />\n",
       "  <line x1=\"62\" y1=\"52\" x2=\"62\" y2=\"140\" />\n",
       "  <line x1=\"80\" y1=\"70\" x2=\"80\" y2=\"157\" style=\"stroke-width:2\" />\n",
       "\n",
       "  <!-- Colored Rectangle -->\n",
       "  <polygon points=\"10.0,0.0 80.58823529411765,70.58823529411765 80.58823529411765,157.843137254902 10.0,87.25490196078432\" style=\"fill:#ECB172A0;stroke-width:0\"/>\n",
       "\n",
       "  <!-- Horizontal lines -->\n",
       "  <line x1=\"10\" y1=\"0\" x2=\"78\" y2=\"0\" style=\"stroke-width:2\" />\n",
       "  <line x1=\"27\" y1=\"17\" x2=\"96\" y2=\"17\" />\n",
       "  <line x1=\"45\" y1=\"35\" x2=\"114\" y2=\"35\" />\n",
       "  <line x1=\"62\" y1=\"52\" x2=\"131\" y2=\"52\" />\n",
       "  <line x1=\"80\" y1=\"70\" x2=\"149\" y2=\"70\" style=\"stroke-width:2\" />\n",
       "\n",
       "  <!-- Vertical lines -->\n",
       "  <line x1=\"10\" y1=\"0\" x2=\"80\" y2=\"70\" style=\"stroke-width:2\" />\n",
       "  <line x1=\"27\" y1=\"0\" x2=\"97\" y2=\"70\" />\n",
       "  <line x1=\"44\" y1=\"0\" x2=\"114\" y2=\"70\" />\n",
       "  <line x1=\"61\" y1=\"0\" x2=\"132\" y2=\"70\" />\n",
       "  <line x1=\"78\" y1=\"0\" x2=\"149\" y2=\"70\" />\n",
       "  <line x1=\"78\" y1=\"0\" x2=\"149\" y2=\"70\" style=\"stroke-width:2\" />\n",
       "\n",
       "  <!-- Colored Rectangle -->\n",
       "  <polygon points=\"10.0,0.0 78.82352941176471,0.0 149.41176470588238,70.58823529411765 80.58823529411765,70.58823529411765\" style=\"fill:#ECB172A0;stroke-width:0\"/>\n",
       "\n",
       "  <!-- Horizontal lines -->\n",
       "  <line x1=\"80\" y1=\"70\" x2=\"149\" y2=\"70\" style=\"stroke-width:2\" />\n",
       "  <line x1=\"80\" y1=\"92\" x2=\"149\" y2=\"92\" />\n",
       "  <line x1=\"80\" y1=\"114\" x2=\"149\" y2=\"114\" />\n",
       "  <line x1=\"80\" y1=\"135\" x2=\"149\" y2=\"135\" />\n",
       "  <line x1=\"80\" y1=\"157\" x2=\"149\" y2=\"157\" />\n",
       "  <line x1=\"80\" y1=\"157\" x2=\"149\" y2=\"157\" style=\"stroke-width:2\" />\n",
       "\n",
       "  <!-- Vertical lines -->\n",
       "  <line x1=\"80\" y1=\"70\" x2=\"80\" y2=\"157\" style=\"stroke-width:2\" />\n",
       "  <line x1=\"97\" y1=\"70\" x2=\"97\" y2=\"157\" />\n",
       "  <line x1=\"114\" y1=\"70\" x2=\"114\" y2=\"157\" />\n",
       "  <line x1=\"132\" y1=\"70\" x2=\"132\" y2=\"157\" />\n",
       "  <line x1=\"149\" y1=\"70\" x2=\"149\" y2=\"157\" />\n",
       "  <line x1=\"149\" y1=\"70\" x2=\"149\" y2=\"157\" style=\"stroke-width:2\" />\n",
       "\n",
       "  <!-- Colored Rectangle -->\n",
       "  <polygon points=\"80.58823529411765,70.58823529411765 149.41176470588238,70.58823529411765 149.41176470588238,157.843137254902 80.58823529411765,157.843137254902\" style=\"fill:#ECB172A0;stroke-width:0\"/>\n",
       "\n",
       "  <!-- Text -->\n",
       "  <text x=\"115.000000\" y=\"177.843137\" font-size=\"1.0rem\" font-weight=\"100\" text-anchor=\"middle\" >702</text>\n",
       "  <text x=\"169.411765\" y=\"114.215686\" font-size=\"1.0rem\" font-weight=\"100\" text-anchor=\"middle\" transform=\"rotate(-90,169.411765,114.215686)\">890</text>\n",
       "  <text x=\"35.294118\" y=\"142.549020\" font-size=\"1.0rem\" font-weight=\"100\" text-anchor=\"middle\" transform=\"rotate(45,35.294118,142.549020)\">1224</text>\n",
       "</svg>\n",
       "</td>\n",
       "</tr>\n",
       "</table>"
      ],
      "text/plain": [
       "dask.array<rechunk-merge, shape=(1224, 890, 702), dtype=bool, chunksize=(306, 222, 175), chunktype=numpy.ndarray>"
      ]
     },
     "execution_count": 37,
     "metadata": {},
     "output_type": "execute_result"
    }
   ],
   "source": [
    "rechunked_binary_image"
   ]
  },
  {
   "cell_type": "markdown",
   "id": "dependent-merchant",
   "metadata": {},
   "source": [
    "### Skeletonize\n",
    "\n",
    "If we use the [`skeletonize` function](https://scikit-image.org/docs/dev/auto_examples/edges/plot_skeleton.html) without Dask, we get crashes due to out-of-memory errors (running on a laptop limited to 16GB RAM, for a dataset of this size). Using Dask, we can run `skeletonize` on the array chunks using [`map_overlap`](https://docs.dask.org/en/latest/array-overlap.html). By limiting the size of the array chunks, we stay under our memory threshold!\n"
   ]
  },
  {
   "cell_type": "code",
   "execution_count": 38,
   "id": "metric-assumption",
   "metadata": {},
   "outputs": [],
   "source": [
    "from skimage.morphology import skeletonize\n",
    "\n",
    "skeleton = da.map_overlap(skeletonize, rechunked_binary_image)"
   ]
  },
  {
   "cell_type": "markdown",
   "id": "current-louisville",
   "metadata": {},
   "source": [
    "### Skeleton analysis\n",
    "\n",
    "Now we can use the distributed skeleton analysis method we developed earlier, on this dataset."
   ]
  },
  {
   "cell_type": "code",
   "execution_count": 39,
   "id": "assisted-measure",
   "metadata": {},
   "outputs": [],
   "source": [
    "skel = skeleton\n",
    "ndim = skel.ndim"
   ]
  },
  {
   "cell_type": "code",
   "execution_count": 40,
   "id": "scientific-twist",
   "metadata": {},
   "outputs": [],
   "source": [
    "# Label each non-zero pixel with a unique integer id\n",
    "structure_kernel = np.zeros((3,) * ndim)\n",
    "structure_kernel[(1,) * ndim] = 1  # add centre pixel\n",
    "skelint, num_features = label(skel, structure=structure_kernel)"
   ]
  },
  {
   "cell_type": "code",
   "execution_count": 41,
   "id": "meaning-sender",
   "metadata": {},
   "outputs": [],
   "source": [
    "# Label each non-zero pixel with the number of neighbors it has\n",
    "degree_kernel = np.ones((3,) * ndim)\n",
    "degree_kernel[(1,) * ndim] = 0  # remove centre pixel\n",
    "degrees_image = convolve(skel.astype(int), degree_kernel, mode='constant') * skel"
   ]
  },
  {
   "cell_type": "code",
   "execution_count": 42,
   "id": "vital-reggae",
   "metadata": {},
   "outputs": [],
   "source": [
    "# Calculate the results we need to make the skeleton graph\n",
    "image = skelint\n",
    "block_iter = zip(\n",
    "    np.ndindex(*image.numblocks),\n",
    "    map(functools.partial(operator.getitem, image),\n",
    "        slices_from_chunks_overlap(image.chunks, image.shape, depth=1))\n",
    ")\n",
    "\n",
    "meta = dd.utils.make_meta([('row', np.int64), ('col', np.int64), ('data', np.float64)])  # it's very important to include meta\n",
    "intermediate_results = [dd.from_delayed(skeleton_graph_func(block), meta=meta) for _, block in block_iter]  # this appears to be triggering a lot of computation\n",
    "results = dd.concat(intermediate_results)\n",
    "results = results.drop_duplicates()"
   ]
  },
  {
   "cell_type": "code",
   "execution_count": 43,
   "id": "therapeutic-scheme",
   "metadata": {},
   "outputs": [
    {
     "data": {
      "text/plain": [
       "<26823x26823 sparse matrix of type '<class 'numpy.float64'>'\n",
       "\twith 37836 stored elements in Compressed Sparse Row format>"
      ]
     },
     "execution_count": 43,
     "metadata": {},
     "output_type": "execute_result"
    }
   ],
   "source": [
    "# Create the skeleton graph adjacency matrix\n",
    "k = len(results)\n",
    "row = np.array(results['row'])\n",
    "col = np.array(results['col'])\n",
    "data = np.array(results['data'])\n",
    "\n",
    "graph = sparse.coo_matrix((data[:k], (row[:k], col[:k]))).tocsr()\n",
    "graph"
   ]
  },
  {
   "cell_type": "markdown",
   "id": "south-christianity",
   "metadata": {},
   "source": [
    "### Skeleton branch statistics"
   ]
  },
  {
   "cell_type": "code",
   "execution_count": 44,
   "id": "surgical-diana",
   "metadata": {},
   "outputs": [],
   "source": [
    "skel_obj = Skeleton(np.eye(5))  # initialize with dummy data"
   ]
  },
  {
   "cell_type": "code",
   "execution_count": 45,
   "id": "hearing-zambia",
   "metadata": {},
   "outputs": [],
   "source": [
    "skel_obj.skeleton_image = skel\n",
    "skel_obj.source_image = original_image  # if you have a raw data image\n",
    "skel_obj.spacing = [1] * skel.ndim  # pixel/voxel size\n",
    "skel_obj.graph = graph\n",
    "skel_obj.degrees_image = degrees_image"
   ]
  },
  {
   "cell_type": "code",
   "execution_count": 46,
   "id": "handmade-contamination",
   "metadata": {},
   "outputs": [],
   "source": [
    "# Calculate the degrees attribute\n",
    "nonzero_degree_values = degrees_image[degrees_image > 0].compute()  # triggers Dask computation\n",
    "degrees = np.concatenate((np.array([0]), nonzero_degree_values))\n",
    "skel_obj.degrees = degrees"
   ]
  },
  {
   "cell_type": "code",
   "execution_count": 47,
   "id": "committed-suspension",
   "metadata": {},
   "outputs": [],
   "source": [
    "# Create a numba-compatible version of the skeleton graph adjacency matrix\n",
    "# node_prop for Skeleton class, so we can get the NBGraph (numba-ified graph)\n",
    "nonzero_pixel_ids = skelint[skelint > 0]\n",
    "sorted_indices = np.argsort(nonzero_pixel_ids)  # coerces to a numpy array, Dask doesn't implement argsort()\n",
    "\n",
    "raw_data = original_image\n",
    "nonzero_pixel_intensity = raw_data[skelint > 0]\n",
    "nonzero_pixel_intensity.compute_chunk_sizes()  # important, otherwise the indexing with sorted_indices thinks it's out of bounds\n",
    "node_props = nonzero_pixel_intensity[sorted_indices].compute()  # trigger Dask computation\n",
    "node_props = np.concatenate((np.array([0]), node_props))  # add a dummy index\n",
    "\n",
    "from skan.csr import csr_to_nbgraph\n",
    "\n",
    "nbgraph = csr_to_nbgraph(graph, node_props=node_props)  # node_props=None is the default\n",
    "# nbgraph = csr_to_nbgraph(graph, node_props=node_props)  # node_props=None is the default\n",
    "\n",
    "skel_obj.nbgraph = nbgraph"
   ]
  },
  {
   "cell_type": "markdown",
   "id": "middle-performer",
   "metadata": {},
   "source": [
    "We also need to tell skan the non-zero pixel locations from our skeleton image."
   ]
  },
  {
   "cell_type": "code",
   "execution_count": 48,
   "id": "abroad-management",
   "metadata": {},
   "outputs": [],
   "source": [
    "# We also need to tell skan the non-zero pixel locations from our skeleton image.\n",
    "pixel_indices = np.concatenate(([[0.] * ndim], np.transpose(np.nonzero(skel))), axis=0) # triggers Dask computation\n",
    "skel_obj.coordinates = pixel_indices"
   ]
  },
  {
   "cell_type": "markdown",
   "id": "divine-scenario",
   "metadata": {},
   "source": [
    "And last we can use some of skan's methods and functions directly to calculate the skeleton paths and branch distances."
   ]
  },
  {
   "cell_type": "code",
   "execution_count": 49,
   "id": "applicable-volume",
   "metadata": {},
   "outputs": [],
   "source": [
    "from skan.csr import _build_skeleton_path_graph\n",
    "\n",
    "paths = _build_skeleton_path_graph(nbgraph, _buffer_size_offset=None)\n",
    "skel_obj.paths = paths\n",
    "skel_obj.n_paths = paths.shape[0]"
   ]
  },
  {
   "cell_type": "code",
   "execution_count": 50,
   "id": "removable-scott",
   "metadata": {},
   "outputs": [],
   "source": [
    "# MUST reset both distances_intialized AND the empty numpy array to calculate the branch length\n",
    "skel_obj._distances_initialized = False\n",
    "skel_obj.distances = np.empty(skel_obj.n_paths, dtype=float)\n",
    "skel_obj.path_lengths();"
   ]
  },
  {
   "cell_type": "markdown",
   "id": "adolescent-extension",
   "metadata": {},
   "source": [
    "### Summary statistics from Dask blood vessel data\n",
    "\n",
    "Now that we finally have all the Skeleton class attributes updated, we are ready to calculate branch statistics."
   ]
  },
  {
   "cell_type": "code",
   "execution_count": 51,
   "id": "relevant-contrary",
   "metadata": {},
   "outputs": [
    {
     "data": {
      "text/html": [
       "<div>\n",
       "<style scoped>\n",
       "    .dataframe tbody tr th:only-of-type {\n",
       "        vertical-align: middle;\n",
       "    }\n",
       "\n",
       "    .dataframe tbody tr th {\n",
       "        vertical-align: top;\n",
       "    }\n",
       "\n",
       "    .dataframe thead th {\n",
       "        text-align: right;\n",
       "    }\n",
       "</style>\n",
       "<table border=\"1\" class=\"dataframe\">\n",
       "  <thead>\n",
       "    <tr style=\"text-align: right;\">\n",
       "      <th></th>\n",
       "      <th>skeleton-id</th>\n",
       "      <th>node-id-src</th>\n",
       "      <th>node-id-dst</th>\n",
       "      <th>branch-distance</th>\n",
       "      <th>branch-type</th>\n",
       "      <th>mean-pixel-value</th>\n",
       "      <th>stdev-pixel-value</th>\n",
       "      <th>image-coord-src-0</th>\n",
       "      <th>image-coord-src-1</th>\n",
       "      <th>image-coord-src-2</th>\n",
       "      <th>image-coord-dst-0</th>\n",
       "      <th>image-coord-dst-1</th>\n",
       "      <th>image-coord-dst-2</th>\n",
       "      <th>coord-src-0</th>\n",
       "      <th>coord-src-1</th>\n",
       "      <th>coord-src-2</th>\n",
       "      <th>coord-dst-0</th>\n",
       "      <th>coord-dst-1</th>\n",
       "      <th>coord-dst-2</th>\n",
       "      <th>euclidean-distance</th>\n",
       "    </tr>\n",
       "  </thead>\n",
       "  <tbody>\n",
       "    <tr>\n",
       "      <th>0</th>\n",
       "      <td>1</td>\n",
       "      <td>1</td>\n",
       "      <td>2</td>\n",
       "      <td>1.000000</td>\n",
       "      <td>2</td>\n",
       "      <td>1.0</td>\n",
       "      <td>0.0</td>\n",
       "      <td>22.0</td>\n",
       "      <td>400.0</td>\n",
       "      <td>595.0</td>\n",
       "      <td>22.0</td>\n",
       "      <td>400.0</td>\n",
       "      <td>596.0</td>\n",
       "      <td>22.0</td>\n",
       "      <td>400.0</td>\n",
       "      <td>595.0</td>\n",
       "      <td>22.0</td>\n",
       "      <td>400.0</td>\n",
       "      <td>596.0</td>\n",
       "      <td>1.000000</td>\n",
       "    </tr>\n",
       "    <tr>\n",
       "      <th>1</th>\n",
       "      <td>2</td>\n",
       "      <td>3</td>\n",
       "      <td>9</td>\n",
       "      <td>8.196152</td>\n",
       "      <td>2</td>\n",
       "      <td>1.0</td>\n",
       "      <td>0.0</td>\n",
       "      <td>37.0</td>\n",
       "      <td>400.0</td>\n",
       "      <td>622.0</td>\n",
       "      <td>43.0</td>\n",
       "      <td>392.0</td>\n",
       "      <td>590.0</td>\n",
       "      <td>37.0</td>\n",
       "      <td>400.0</td>\n",
       "      <td>622.0</td>\n",
       "      <td>43.0</td>\n",
       "      <td>392.0</td>\n",
       "      <td>590.0</td>\n",
       "      <td>33.526109</td>\n",
       "    </tr>\n",
       "    <tr>\n",
       "      <th>2</th>\n",
       "      <td>3</td>\n",
       "      <td>10</td>\n",
       "      <td>11</td>\n",
       "      <td>1.000000</td>\n",
       "      <td>2</td>\n",
       "      <td>1.0</td>\n",
       "      <td>0.0</td>\n",
       "      <td>49.0</td>\n",
       "      <td>391.0</td>\n",
       "      <td>589.0</td>\n",
       "      <td>50.0</td>\n",
       "      <td>391.0</td>\n",
       "      <td>589.0</td>\n",
       "      <td>49.0</td>\n",
       "      <td>391.0</td>\n",
       "      <td>589.0</td>\n",
       "      <td>50.0</td>\n",
       "      <td>391.0</td>\n",
       "      <td>589.0</td>\n",
       "      <td>1.000000</td>\n",
       "    </tr>\n",
       "    <tr>\n",
       "      <th>3</th>\n",
       "      <td>5</td>\n",
       "      <td>13</td>\n",
       "      <td>19</td>\n",
       "      <td>6.828427</td>\n",
       "      <td>2</td>\n",
       "      <td>1.0</td>\n",
       "      <td>0.0</td>\n",
       "      <td>52.0</td>\n",
       "      <td>389.0</td>\n",
       "      <td>588.0</td>\n",
       "      <td>55.0</td>\n",
       "      <td>385.0</td>\n",
       "      <td>588.0</td>\n",
       "      <td>52.0</td>\n",
       "      <td>389.0</td>\n",
       "      <td>588.0</td>\n",
       "      <td>55.0</td>\n",
       "      <td>385.0</td>\n",
       "      <td>588.0</td>\n",
       "      <td>5.000000</td>\n",
       "    </tr>\n",
       "    <tr>\n",
       "      <th>4</th>\n",
       "      <td>7</td>\n",
       "      <td>21</td>\n",
       "      <td>23</td>\n",
       "      <td>2.000000</td>\n",
       "      <td>2</td>\n",
       "      <td>1.0</td>\n",
       "      <td>0.0</td>\n",
       "      <td>57.0</td>\n",
       "      <td>382.0</td>\n",
       "      <td>587.0</td>\n",
       "      <td>58.0</td>\n",
       "      <td>380.0</td>\n",
       "      <td>586.0</td>\n",
       "      <td>57.0</td>\n",
       "      <td>382.0</td>\n",
       "      <td>587.0</td>\n",
       "      <td>58.0</td>\n",
       "      <td>380.0</td>\n",
       "      <td>586.0</td>\n",
       "      <td>2.449490</td>\n",
       "    </tr>\n",
       "    <tr>\n",
       "      <th>...</th>\n",
       "      <td>...</td>\n",
       "      <td>...</td>\n",
       "      <td>...</td>\n",
       "      <td>...</td>\n",
       "      <td>...</td>\n",
       "      <td>...</td>\n",
       "      <td>...</td>\n",
       "      <td>...</td>\n",
       "      <td>...</td>\n",
       "      <td>...</td>\n",
       "      <td>...</td>\n",
       "      <td>...</td>\n",
       "      <td>...</td>\n",
       "      <td>...</td>\n",
       "      <td>...</td>\n",
       "      <td>...</td>\n",
       "      <td>...</td>\n",
       "      <td>...</td>\n",
       "      <td>...</td>\n",
       "      <td>...</td>\n",
       "    </tr>\n",
       "    <tr>\n",
       "      <th>1090</th>\n",
       "      <td>2617</td>\n",
       "      <td>21386</td>\n",
       "      <td>21388</td>\n",
       "      <td>1.414214</td>\n",
       "      <td>2</td>\n",
       "      <td>1.0</td>\n",
       "      <td>0.0</td>\n",
       "      <td>828.0</td>\n",
       "      <td>341.0</td>\n",
       "      <td>289.0</td>\n",
       "      <td>828.0</td>\n",
       "      <td>365.0</td>\n",
       "      <td>130.0</td>\n",
       "      <td>828.0</td>\n",
       "      <td>341.0</td>\n",
       "      <td>289.0</td>\n",
       "      <td>828.0</td>\n",
       "      <td>365.0</td>\n",
       "      <td>130.0</td>\n",
       "      <td>160.801119</td>\n",
       "    </tr>\n",
       "    <tr>\n",
       "      <th>1091</th>\n",
       "      <td>2617</td>\n",
       "      <td>21388</td>\n",
       "      <td>21395</td>\n",
       "      <td>9.071068</td>\n",
       "      <td>2</td>\n",
       "      <td>1.0</td>\n",
       "      <td>0.0</td>\n",
       "      <td>828.0</td>\n",
       "      <td>365.0</td>\n",
       "      <td>130.0</td>\n",
       "      <td>828.0</td>\n",
       "      <td>559.0</td>\n",
       "      <td>272.0</td>\n",
       "      <td>828.0</td>\n",
       "      <td>365.0</td>\n",
       "      <td>130.0</td>\n",
       "      <td>828.0</td>\n",
       "      <td>559.0</td>\n",
       "      <td>272.0</td>\n",
       "      <td>240.416306</td>\n",
       "    </tr>\n",
       "    <tr>\n",
       "      <th>1092</th>\n",
       "      <td>6938</td>\n",
       "      <td>25715</td>\n",
       "      <td>25719</td>\n",
       "      <td>11.071068</td>\n",
       "      <td>2</td>\n",
       "      <td>1.0</td>\n",
       "      <td>0.0</td>\n",
       "      <td>935.0</td>\n",
       "      <td>802.0</td>\n",
       "      <td>354.0</td>\n",
       "      <td>936.0</td>\n",
       "      <td>454.0</td>\n",
       "      <td>251.0</td>\n",
       "      <td>935.0</td>\n",
       "      <td>802.0</td>\n",
       "      <td>354.0</td>\n",
       "      <td>936.0</td>\n",
       "      <td>454.0</td>\n",
       "      <td>251.0</td>\n",
       "      <td>362.924235</td>\n",
       "    </tr>\n",
       "    <tr>\n",
       "      <th>1093</th>\n",
       "      <td>8034</td>\n",
       "      <td>26820</td>\n",
       "      <td>26822</td>\n",
       "      <td>2.000000</td>\n",
       "      <td>2</td>\n",
       "      <td>1.0</td>\n",
       "      <td>0.0</td>\n",
       "      <td>976.0</td>\n",
       "      <td>214.0</td>\n",
       "      <td>176.0</td>\n",
       "      <td>976.0</td>\n",
       "      <td>264.0</td>\n",
       "      <td>256.0</td>\n",
       "      <td>976.0</td>\n",
       "      <td>214.0</td>\n",
       "      <td>176.0</td>\n",
       "      <td>976.0</td>\n",
       "      <td>264.0</td>\n",
       "      <td>256.0</td>\n",
       "      <td>94.339811</td>\n",
       "    </tr>\n",
       "    <tr>\n",
       "      <th>1094</th>\n",
       "      <td>2499</td>\n",
       "      <td>14895</td>\n",
       "      <td>14895</td>\n",
       "      <td>3.414214</td>\n",
       "      <td>3</td>\n",
       "      <td>1.0</td>\n",
       "      <td>0.0</td>\n",
       "      <td>695.0</td>\n",
       "      <td>554.0</td>\n",
       "      <td>232.0</td>\n",
       "      <td>695.0</td>\n",
       "      <td>554.0</td>\n",
       "      <td>232.0</td>\n",
       "      <td>695.0</td>\n",
       "      <td>554.0</td>\n",
       "      <td>232.0</td>\n",
       "      <td>695.0</td>\n",
       "      <td>554.0</td>\n",
       "      <td>232.0</td>\n",
       "      <td>0.000000</td>\n",
       "    </tr>\n",
       "  </tbody>\n",
       "</table>\n",
       "<p>1095 rows × 20 columns</p>\n",
       "</div>"
      ],
      "text/plain": [
       "      skeleton-id  node-id-src  node-id-dst  branch-distance  branch-type  \\\n",
       "0               1            1            2         1.000000            2   \n",
       "1               2            3            9         8.196152            2   \n",
       "2               3           10           11         1.000000            2   \n",
       "3               5           13           19         6.828427            2   \n",
       "4               7           21           23         2.000000            2   \n",
       "...           ...          ...          ...              ...          ...   \n",
       "1090         2617        21386        21388         1.414214            2   \n",
       "1091         2617        21388        21395         9.071068            2   \n",
       "1092         6938        25715        25719        11.071068            2   \n",
       "1093         8034        26820        26822         2.000000            2   \n",
       "1094         2499        14895        14895         3.414214            3   \n",
       "\n",
       "      mean-pixel-value  stdev-pixel-value  image-coord-src-0  \\\n",
       "0                  1.0                0.0               22.0   \n",
       "1                  1.0                0.0               37.0   \n",
       "2                  1.0                0.0               49.0   \n",
       "3                  1.0                0.0               52.0   \n",
       "4                  1.0                0.0               57.0   \n",
       "...                ...                ...                ...   \n",
       "1090               1.0                0.0              828.0   \n",
       "1091               1.0                0.0              828.0   \n",
       "1092               1.0                0.0              935.0   \n",
       "1093               1.0                0.0              976.0   \n",
       "1094               1.0                0.0              695.0   \n",
       "\n",
       "      image-coord-src-1  image-coord-src-2  image-coord-dst-0  \\\n",
       "0                 400.0              595.0               22.0   \n",
       "1                 400.0              622.0               43.0   \n",
       "2                 391.0              589.0               50.0   \n",
       "3                 389.0              588.0               55.0   \n",
       "4                 382.0              587.0               58.0   \n",
       "...                 ...                ...                ...   \n",
       "1090              341.0              289.0              828.0   \n",
       "1091              365.0              130.0              828.0   \n",
       "1092              802.0              354.0              936.0   \n",
       "1093              214.0              176.0              976.0   \n",
       "1094              554.0              232.0              695.0   \n",
       "\n",
       "      image-coord-dst-1  image-coord-dst-2  coord-src-0  coord-src-1  \\\n",
       "0                 400.0              596.0         22.0        400.0   \n",
       "1                 392.0              590.0         37.0        400.0   \n",
       "2                 391.0              589.0         49.0        391.0   \n",
       "3                 385.0              588.0         52.0        389.0   \n",
       "4                 380.0              586.0         57.0        382.0   \n",
       "...                 ...                ...          ...          ...   \n",
       "1090              365.0              130.0        828.0        341.0   \n",
       "1091              559.0              272.0        828.0        365.0   \n",
       "1092              454.0              251.0        935.0        802.0   \n",
       "1093              264.0              256.0        976.0        214.0   \n",
       "1094              554.0              232.0        695.0        554.0   \n",
       "\n",
       "      coord-src-2  coord-dst-0  coord-dst-1  coord-dst-2  euclidean-distance  \n",
       "0           595.0         22.0        400.0        596.0            1.000000  \n",
       "1           622.0         43.0        392.0        590.0           33.526109  \n",
       "2           589.0         50.0        391.0        589.0            1.000000  \n",
       "3           588.0         55.0        385.0        588.0            5.000000  \n",
       "4           587.0         58.0        380.0        586.0            2.449490  \n",
       "...           ...          ...          ...          ...                 ...  \n",
       "1090        289.0        828.0        365.0        130.0          160.801119  \n",
       "1091        130.0        828.0        559.0        272.0          240.416306  \n",
       "1092        354.0        936.0        454.0        251.0          362.924235  \n",
       "1093        176.0        976.0        264.0        256.0           94.339811  \n",
       "1094        232.0        695.0        554.0        232.0            0.000000  \n",
       "\n",
       "[1095 rows x 20 columns]"
      ]
     },
     "execution_count": 51,
     "metadata": {},
     "output_type": "execute_result"
    }
   ],
   "source": [
    "from skan import summarize\n",
    "\n",
    "statistics = summarize(skel_obj)\n",
    "statistics"
   ]
  },
  {
   "cell_type": "code",
   "execution_count": 52,
   "id": "reserved-associate",
   "metadata": {},
   "outputs": [
    {
     "data": {
      "text/html": [
       "<div>\n",
       "<style scoped>\n",
       "    .dataframe tbody tr th:only-of-type {\n",
       "        vertical-align: middle;\n",
       "    }\n",
       "\n",
       "    .dataframe tbody tr th {\n",
       "        vertical-align: top;\n",
       "    }\n",
       "\n",
       "    .dataframe thead th {\n",
       "        text-align: right;\n",
       "    }\n",
       "</style>\n",
       "<table border=\"1\" class=\"dataframe\">\n",
       "  <thead>\n",
       "    <tr style=\"text-align: right;\">\n",
       "      <th></th>\n",
       "      <th>skeleton-id</th>\n",
       "      <th>node-id-src</th>\n",
       "      <th>node-id-dst</th>\n",
       "      <th>branch-distance</th>\n",
       "      <th>branch-type</th>\n",
       "      <th>mean-pixel-value</th>\n",
       "      <th>stdev-pixel-value</th>\n",
       "      <th>image-coord-src-0</th>\n",
       "      <th>image-coord-src-1</th>\n",
       "      <th>image-coord-src-2</th>\n",
       "      <th>image-coord-dst-0</th>\n",
       "      <th>image-coord-dst-1</th>\n",
       "      <th>image-coord-dst-2</th>\n",
       "      <th>coord-src-0</th>\n",
       "      <th>coord-src-1</th>\n",
       "      <th>coord-src-2</th>\n",
       "      <th>coord-dst-0</th>\n",
       "      <th>coord-dst-1</th>\n",
       "      <th>coord-dst-2</th>\n",
       "      <th>euclidean-distance</th>\n",
       "    </tr>\n",
       "  </thead>\n",
       "  <tbody>\n",
       "    <tr>\n",
       "      <th>count</th>\n",
       "      <td>1095.000000</td>\n",
       "      <td>1095.000000</td>\n",
       "      <td>1095.000000</td>\n",
       "      <td>1095.000000</td>\n",
       "      <td>1095.000000</td>\n",
       "      <td>1095.0</td>\n",
       "      <td>1095.0</td>\n",
       "      <td>1095.000000</td>\n",
       "      <td>1095.000000</td>\n",
       "      <td>1095.000000</td>\n",
       "      <td>1095.000000</td>\n",
       "      <td>1095.000000</td>\n",
       "      <td>1095.000000</td>\n",
       "      <td>1095.000000</td>\n",
       "      <td>1095.000000</td>\n",
       "      <td>1095.000000</td>\n",
       "      <td>1095.000000</td>\n",
       "      <td>1095.000000</td>\n",
       "      <td>1095.000000</td>\n",
       "      <td>1095.000000</td>\n",
       "    </tr>\n",
       "    <tr>\n",
       "      <th>mean</th>\n",
       "      <td>2089.382648</td>\n",
       "      <td>11520.147945</td>\n",
       "      <td>11608.591781</td>\n",
       "      <td>22.907940</td>\n",
       "      <td>2.000913</td>\n",
       "      <td>1.0</td>\n",
       "      <td>0.0</td>\n",
       "      <td>591.938813</td>\n",
       "      <td>430.303196</td>\n",
       "      <td>377.409132</td>\n",
       "      <td>594.325114</td>\n",
       "      <td>436.596347</td>\n",
       "      <td>373.419178</td>\n",
       "      <td>591.938813</td>\n",
       "      <td>430.303196</td>\n",
       "      <td>377.409132</td>\n",
       "      <td>594.325114</td>\n",
       "      <td>436.596347</td>\n",
       "      <td>373.419178</td>\n",
       "      <td>190.129504</td>\n",
       "    </tr>\n",
       "    <tr>\n",
       "      <th>std</th>\n",
       "      <td>636.376786</td>\n",
       "      <td>6057.613236</td>\n",
       "      <td>6061.182631</td>\n",
       "      <td>24.264591</td>\n",
       "      <td>0.030220</td>\n",
       "      <td>0.0</td>\n",
       "      <td>0.0</td>\n",
       "      <td>174.039923</td>\n",
       "      <td>194.499360</td>\n",
       "      <td>97.021882</td>\n",
       "      <td>173.352860</td>\n",
       "      <td>188.707738</td>\n",
       "      <td>96.827617</td>\n",
       "      <td>174.039923</td>\n",
       "      <td>194.499360</td>\n",
       "      <td>97.021882</td>\n",
       "      <td>173.352860</td>\n",
       "      <td>188.707738</td>\n",
       "      <td>96.827617</td>\n",
       "      <td>151.170588</td>\n",
       "    </tr>\n",
       "    <tr>\n",
       "      <th>min</th>\n",
       "      <td>1.000000</td>\n",
       "      <td>1.000000</td>\n",
       "      <td>2.000000</td>\n",
       "      <td>1.000000</td>\n",
       "      <td>2.000000</td>\n",
       "      <td>1.0</td>\n",
       "      <td>0.0</td>\n",
       "      <td>22.000000</td>\n",
       "      <td>39.000000</td>\n",
       "      <td>116.000000</td>\n",
       "      <td>22.000000</td>\n",
       "      <td>39.000000</td>\n",
       "      <td>114.000000</td>\n",
       "      <td>22.000000</td>\n",
       "      <td>39.000000</td>\n",
       "      <td>116.000000</td>\n",
       "      <td>22.000000</td>\n",
       "      <td>39.000000</td>\n",
       "      <td>114.000000</td>\n",
       "      <td>0.000000</td>\n",
       "    </tr>\n",
       "    <tr>\n",
       "      <th>25%</th>\n",
       "      <td>1586.000000</td>\n",
       "      <td>6215.500000</td>\n",
       "      <td>6429.500000</td>\n",
       "      <td>1.732051</td>\n",
       "      <td>2.000000</td>\n",
       "      <td>1.0</td>\n",
       "      <td>0.0</td>\n",
       "      <td>468.500000</td>\n",
       "      <td>278.500000</td>\n",
       "      <td>313.000000</td>\n",
       "      <td>475.000000</td>\n",
       "      <td>299.500000</td>\n",
       "      <td>307.000000</td>\n",
       "      <td>468.500000</td>\n",
       "      <td>278.500000</td>\n",
       "      <td>313.000000</td>\n",
       "      <td>475.000000</td>\n",
       "      <td>299.500000</td>\n",
       "      <td>307.000000</td>\n",
       "      <td>72.694566</td>\n",
       "    </tr>\n",
       "    <tr>\n",
       "      <th>50%</th>\n",
       "      <td>2431.000000</td>\n",
       "      <td>11977.000000</td>\n",
       "      <td>12010.000000</td>\n",
       "      <td>16.681434</td>\n",
       "      <td>2.000000</td>\n",
       "      <td>1.0</td>\n",
       "      <td>0.0</td>\n",
       "      <td>626.000000</td>\n",
       "      <td>405.000000</td>\n",
       "      <td>388.000000</td>\n",
       "      <td>627.000000</td>\n",
       "      <td>410.000000</td>\n",
       "      <td>381.000000</td>\n",
       "      <td>626.000000</td>\n",
       "      <td>405.000000</td>\n",
       "      <td>388.000000</td>\n",
       "      <td>627.000000</td>\n",
       "      <td>410.000000</td>\n",
       "      <td>381.000000</td>\n",
       "      <td>161.058995</td>\n",
       "    </tr>\n",
       "    <tr>\n",
       "      <th>75%</th>\n",
       "      <td>2542.500000</td>\n",
       "      <td>16526.500000</td>\n",
       "      <td>16583.000000</td>\n",
       "      <td>35.043330</td>\n",
       "      <td>2.000000</td>\n",
       "      <td>1.0</td>\n",
       "      <td>0.0</td>\n",
       "      <td>732.000000</td>\n",
       "      <td>579.000000</td>\n",
       "      <td>434.000000</td>\n",
       "      <td>734.000000</td>\n",
       "      <td>590.000000</td>\n",
       "      <td>432.000000</td>\n",
       "      <td>732.000000</td>\n",
       "      <td>579.000000</td>\n",
       "      <td>434.000000</td>\n",
       "      <td>734.000000</td>\n",
       "      <td>590.000000</td>\n",
       "      <td>432.000000</td>\n",
       "      <td>265.948297</td>\n",
       "    </tr>\n",
       "    <tr>\n",
       "      <th>max</th>\n",
       "      <td>8034.000000</td>\n",
       "      <td>26820.000000</td>\n",
       "      <td>26822.000000</td>\n",
       "      <td>197.146555</td>\n",
       "      <td>3.000000</td>\n",
       "      <td>1.0</td>\n",
       "      <td>0.0</td>\n",
       "      <td>976.000000</td>\n",
       "      <td>833.000000</td>\n",
       "      <td>622.000000</td>\n",
       "      <td>976.000000</td>\n",
       "      <td>841.000000</td>\n",
       "      <td>606.000000</td>\n",
       "      <td>976.000000</td>\n",
       "      <td>833.000000</td>\n",
       "      <td>622.000000</td>\n",
       "      <td>976.000000</td>\n",
       "      <td>841.000000</td>\n",
       "      <td>606.000000</td>\n",
       "      <td>737.835347</td>\n",
       "    </tr>\n",
       "  </tbody>\n",
       "</table>\n",
       "</div>"
      ],
      "text/plain": [
       "       skeleton-id   node-id-src   node-id-dst  branch-distance  branch-type  \\\n",
       "count  1095.000000   1095.000000   1095.000000      1095.000000  1095.000000   \n",
       "mean   2089.382648  11520.147945  11608.591781        22.907940     2.000913   \n",
       "std     636.376786   6057.613236   6061.182631        24.264591     0.030220   \n",
       "min       1.000000      1.000000      2.000000         1.000000     2.000000   \n",
       "25%    1586.000000   6215.500000   6429.500000         1.732051     2.000000   \n",
       "50%    2431.000000  11977.000000  12010.000000        16.681434     2.000000   \n",
       "75%    2542.500000  16526.500000  16583.000000        35.043330     2.000000   \n",
       "max    8034.000000  26820.000000  26822.000000       197.146555     3.000000   \n",
       "\n",
       "       mean-pixel-value  stdev-pixel-value  image-coord-src-0  \\\n",
       "count            1095.0             1095.0        1095.000000   \n",
       "mean                1.0                0.0         591.938813   \n",
       "std                 0.0                0.0         174.039923   \n",
       "min                 1.0                0.0          22.000000   \n",
       "25%                 1.0                0.0         468.500000   \n",
       "50%                 1.0                0.0         626.000000   \n",
       "75%                 1.0                0.0         732.000000   \n",
       "max                 1.0                0.0         976.000000   \n",
       "\n",
       "       image-coord-src-1  image-coord-src-2  image-coord-dst-0  \\\n",
       "count        1095.000000        1095.000000        1095.000000   \n",
       "mean          430.303196         377.409132         594.325114   \n",
       "std           194.499360          97.021882         173.352860   \n",
       "min            39.000000         116.000000          22.000000   \n",
       "25%           278.500000         313.000000         475.000000   \n",
       "50%           405.000000         388.000000         627.000000   \n",
       "75%           579.000000         434.000000         734.000000   \n",
       "max           833.000000         622.000000         976.000000   \n",
       "\n",
       "       image-coord-dst-1  image-coord-dst-2  coord-src-0  coord-src-1  \\\n",
       "count        1095.000000        1095.000000  1095.000000  1095.000000   \n",
       "mean          436.596347         373.419178   591.938813   430.303196   \n",
       "std           188.707738          96.827617   174.039923   194.499360   \n",
       "min            39.000000         114.000000    22.000000    39.000000   \n",
       "25%           299.500000         307.000000   468.500000   278.500000   \n",
       "50%           410.000000         381.000000   626.000000   405.000000   \n",
       "75%           590.000000         432.000000   732.000000   579.000000   \n",
       "max           841.000000         606.000000   976.000000   833.000000   \n",
       "\n",
       "       coord-src-2  coord-dst-0  coord-dst-1  coord-dst-2  euclidean-distance  \n",
       "count  1095.000000  1095.000000  1095.000000  1095.000000         1095.000000  \n",
       "mean    377.409132   594.325114   436.596347   373.419178          190.129504  \n",
       "std      97.021882   173.352860   188.707738    96.827617          151.170588  \n",
       "min     116.000000    22.000000    39.000000   114.000000            0.000000  \n",
       "25%     313.000000   475.000000   299.500000   307.000000           72.694566  \n",
       "50%     388.000000   627.000000   410.000000   381.000000          161.058995  \n",
       "75%     434.000000   734.000000   590.000000   432.000000          265.948297  \n",
       "max     622.000000   976.000000   841.000000   606.000000          737.835347  "
      ]
     },
     "execution_count": 52,
     "metadata": {},
     "output_type": "execute_result"
    }
   ],
   "source": [
    "statistics.describe()"
   ]
  },
  {
   "cell_type": "markdown",
   "id": "passive-portfolio",
   "metadata": {},
   "source": [
    "### Visualization"
   ]
  },
  {
   "cell_type": "code",
   "execution_count": 53,
   "id": "extreme-slide",
   "metadata": {},
   "outputs": [],
   "source": [
    "import seaborn as sns"
   ]
  },
  {
   "cell_type": "code",
   "execution_count": 54,
   "id": "recreational-benchmark",
   "metadata": {},
   "outputs": [
    {
     "data": {
      "image/png": "[encoded data removed]",
      "text/plain": [
       "<Figure size 432x288 with 1 Axes>"
      ]
     },
     "metadata": {},
     "output_type": "display_data"
    }
   ],
   "source": [
    "sns.set_theme(style=\"whitegrid\")\n",
    "ax = sns.violinplot(x=statistics[\"branch-distance\"])"
   ]
  },
  {
   "cell_type": "code",
   "execution_count": 55,
   "id": "fluid-picture",
   "metadata": {},
   "outputs": [
    {
     "data": {
      "image/png": "[encoded data removed]",
      "text/plain": [
       "<Figure size 432x288 with 1 Axes>"
      ]
     },
     "metadata": {},
     "output_type": "display_data"
    }
   ],
   "source": [
    "sns.set_theme(style=\"whitegrid\")\n",
    "ax = sns.violinplot(x=statistics[\"euclidean-distance\"])"
   ]
  },
  {
   "cell_type": "code",
   "execution_count": null,
   "id": "exact-exemption",
   "metadata": {},
   "outputs": [],
   "source": []
  }
 ],
 "metadata": {
  "kernelspec": {
   "display_name": "Python 3",
   "language": "python",
   "name": "python3"
  },
  "language_info": {
   "codemirror_mode": {
    "name": "ipython",
    "version": 3
   },
   "file_extension": ".py",
   "mimetype": "text/x-python",
   "name": "python",
   "nbconvert_exporter": "python",
   "pygments_lexer": "ipython3",
   "version": "3.7.9"
  }
 },
 "nbformat": 4,
 "nbformat_minor": 5
}
